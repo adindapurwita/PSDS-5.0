{
  "nbformat": 4,
  "nbformat_minor": 0,
  "metadata": {
    "colab": {
      "provenance": [],
      "authorship_tag": "ABX9TyPhh2F5bRs6YNFrkTk3m2ZH",
      "include_colab_link": true
    },
    "kernelspec": {
      "name": "python3",
      "display_name": "Python 3"
    },
    "language_info": {
      "name": "python"
    }
  },
  "cells": [
    {
      "cell_type": "markdown",
      "metadata": {
        "id": "view-in-github",
        "colab_type": "text"
      },
      "source": [
        "<a href=\"https://colab.research.google.com/github/adindapurwita/PSDS-5.0/blob/main/Tugas_2.ipynb\" target=\"_parent\"><img src=\"https://colab.research.google.com/assets/colab-badge.svg\" alt=\"Open In Colab\"/></a>"
      ]
    },
    {
      "cell_type": "markdown",
      "source": [
        "#Pengenalan Python\n"
      ],
      "metadata": {
        "id": "0F4fJDAKMK5r"
      }
    },
    {
      "cell_type": "markdown",
      "source": [
        "Python adalah Bahasa pemrograman tingkat tinggi dengan dynamic semantics, bersifat object oriented, dan interpretatif. Bahasa pemrograman ini fokus dikembangkan pada keterbacaan bahasa pemrograman.\n",
        "\n",
        "\n",
        "1.   **Bahasa Pemrograman Tingkat Tinggi (High Level Programming)** Artinya sintaks kode lebih mudah ditafsirkan oleh manusia.\n",
        "2.   **Interpretatif** Ini artinya bahasa ini memerlukan intrepeter atau penerjemah. Ini memungkinkan kita untuk menggunakan Bahasa yang lebih mudah kita pahami.\n",
        "3.   **Object Oriented** Ini berarti bahwa bahasa pemrograman ini berorientasi kepada objek. Hal ini membuat Phyton lebih mudah untuk dikembangkan.\n",
        "4.   **Dynamic Semantic** Phyton secara otomatis akan menyesuaikan tipe dari suatu variable berdasarkan inputnya.\n",
        "\n"
      ],
      "metadata": {
        "id": "c-UXcbJnMUvz"
      }
    },
    {
      "cell_type": "markdown",
      "source": [
        "#Mengapa Phyton?"
      ],
      "metadata": {
        "id": "RTY3r7IsNjce"
      }
    },
    {
      "cell_type": "markdown",
      "source": [
        "1. Mudah dipahami\n",
        "2. Grafis & Open Source\n",
        "3. Dinamis\n",
        "4. Memiliki Library Terlengkap untuk Data Sains"
      ],
      "metadata": {
        "id": "f0Zms1KKNpEz"
      }
    },
    {
      "cell_type": "markdown",
      "source": [
        "# Struktur Program Pada Phyton"
      ],
      "metadata": {
        "id": "AUL5ikECN0lo"
      }
    },
    {
      "cell_type": "markdown",
      "source": [
        "Phyton pada umumnya terdiri dari :\n",
        "1. **Statement**"
      ],
      "metadata": {
        "id": "nBkNFDbSN4mN"
      }
    },
    {
      "cell_type": "code",
      "source": [
        "print(\"belajar Phyton menyenangkan\")\n",
        "print(\"halo dunia\")"
      ],
      "metadata": {
        "colab": {
          "base_uri": "https://localhost:8080/"
        },
        "id": "GnEZ4ItMNovN",
        "outputId": "75d5972e-d745-4253-8eda-a514e6a5fc4a"
      },
      "execution_count": null,
      "outputs": [
        {
          "output_type": "stream",
          "name": "stdout",
          "text": [
            "belajar Phyton menyenangkan\n",
            "halo dunia\n"
          ]
        }
      ]
    },
    {
      "cell_type": "markdown",
      "source": [
        "2. **Variables**"
      ],
      "metadata": {
        "id": "JL5OWbC_OLmh"
      }
    },
    {
      "cell_type": "code",
      "source": [
        "bilangan1 = 5\n",
        "bilangan2 = 10\n",
        "kalimat = \"Pejuang Data 3\""
      ],
      "metadata": {
        "id": "sAdfPYSSNnBa"
      },
      "execution_count": null,
      "outputs": []
    },
    {
      "cell_type": "markdown",
      "source": [
        "3. **Literals** : Simbol-simbol yang dapat kita gunakan untuk mengisi suatu variable\n"
      ],
      "metadata": {
        "id": "NqfetvqSOWvs"
      }
    },
    {
      "cell_type": "markdown",
      "source": [
        "4. **Operators** : Simbol-simbol yang dapat digunakan untuk mengubah nilai dari satu variable dengan melibatkan satu atau lebih variable dan literal"
      ],
      "metadata": {
        "id": "OPflVtHsOuoB"
      }
    },
    {
      "cell_type": "code",
      "execution_count": null,
      "metadata": {
        "colab": {
          "base_uri": "https://localhost:8080/"
        },
        "id": "XTQmo2qOL7xt",
        "outputId": "46bf865b-8644-4e6c-8298-042661f84752"
      },
      "outputs": [
        {
          "output_type": "execute_result",
          "data": {
            "text/plain": [
              "15"
            ]
          },
          "metadata": {},
          "execution_count": 3
        }
      ],
      "source": [
        "bilangan1 + bilangan2"
      ]
    },
    {
      "cell_type": "markdown",
      "source": [
        "5. **Reserved Words** : Kumpulan kata-kata yang memiliki makna khusus dalam bahasa pemrograman Phyton. Kata `false`, `return`, dan `for` merupakan contoh dari reserved word."
      ],
      "metadata": {
        "id": "WK1rN3BSO1fK"
      }
    },
    {
      "cell_type": "markdown",
      "source": [
        "6. **Whitespace** : Pada bahasa Phyton, spasi dan tab memiliki makna khusus untuk menandai serangkaian blok dalam kode Phyton."
      ],
      "metadata": {
        "id": "Rf2N14I3Qsl7"
      }
    },
    {
      "cell_type": "markdown",
      "source": [
        "7. **Comments** : Comments merupakan kelumpulan teks yang dituliskan di dalam sebuah program yang tidak akan mempengaruhi hasil dari sebuah pemrograman.\n",
        "\n",
        "Terdapat dua jenis comments di dalam Phyton, yaitu:\n",
        "\n",
        "a. **single line comment** (comments dalam satu baris) seperti contoh berikut:"
      ],
      "metadata": {
        "id": "rVF58p-UQ6Z-"
      }
    },
    {
      "cell_type": "code",
      "source": [
        "# Ini adalah Comment\n",
        "print(\"belajar Phyton\")"
      ],
      "metadata": {
        "colab": {
          "base_uri": "https://localhost:8080/"
        },
        "id": "-BvVUsOTR_c_",
        "outputId": "97009e3b-39e8-4d6e-867c-8dac5bc58bd9"
      },
      "execution_count": null,
      "outputs": [
        {
          "output_type": "stream",
          "name": "stdout",
          "text": [
            "belajar Phyton\n"
          ]
        }
      ]
    },
    {
      "cell_type": "markdown",
      "source": [
        "b. **multi line comment** (comments dalam beberapa baris) yang dapat dilakukan seperti pada contoh berikut:"
      ],
      "metadata": {
        "id": "DJ6U3iGpS5Xg"
      }
    },
    {
      "cell_type": "code",
      "source": [
        "'''\n",
        "Ini adalah komentar panjang\n",
        "Bisa digunakan untuk memberikan penjelasan\n",
        "panjang pada Sell Kode Phyton,\n",
        "Misal dokumentasi program, spesifikasi\n",
        "input output atau lainnya\n",
        "'''\n",
        "print('Belajar Phyton menyenangkan')\n"
      ],
      "metadata": {
        "colab": {
          "base_uri": "https://localhost:8080/"
        },
        "id": "VGVvQYTRTDvY",
        "outputId": "7f16bbb0-bea3-4a68-a860-e850c5d34549"
      },
      "execution_count": null,
      "outputs": [
        {
          "output_type": "stream",
          "name": "stdout",
          "text": [
            "Belajar Phyton menyenangkan\n"
          ]
        }
      ]
    }
  ]
}