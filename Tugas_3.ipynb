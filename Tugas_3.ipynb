{
  "nbformat": 4,
  "nbformat_minor": 0,
  "metadata": {
    "colab": {
      "provenance": [],
      "authorship_tag": "ABX9TyMRaVTAdYi7AzUwzR6F/3dk",
      "include_colab_link": true
    },
    "kernelspec": {
      "name": "python3",
      "display_name": "Python 3"
    },
    "language_info": {
      "name": "python"
    }
  },
  "cells": [
    {
      "cell_type": "markdown",
      "metadata": {
        "id": "view-in-github",
        "colab_type": "text"
      },
      "source": [
        "<a href=\"https://colab.research.google.com/github/adindapurwita/PSDS-5.0/blob/main/Tugas_3.ipynb\" target=\"_parent\"><img src=\"https://colab.research.google.com/assets/colab-badge.svg\" alt=\"Open In Colab\"/></a>"
      ]
    },
    {
      "cell_type": "markdown",
      "source": [
        "#**Operator**\n",
        "Operator simbol-simbol yang dapat digunakan untuk mengubah nilai dari satu variabel dengan melibatkan satu atau lebih variabel dan literal.\n",
        "\n",
        "Tipe-tipe operator:\n",
        "1. Operator Aritmatika\n",
        "2. Operator Assignment\n",
        "3. Operator Pembanding\n",
        "4. Operator Logika\n",
        "5. Operator Membership"
      ],
      "metadata": {
        "id": "Q_GZPf1HCb5i"
      }
    },
    {
      "cell_type": "markdown",
      "source": [
        "##Operator Aritmatika\n"
      ],
      "metadata": {
        "id": "Wt_igKGP8Tno"
      }
    },
    {
      "cell_type": "markdown",
      "source": [
        "Operator Aritmatika digunakan untuk melakukan operasi matematika yang umum.\n",
        "\n",
        "Macam macam Operator Aritmatika, yaitu:\n",
        "```\n",
        "+ : Penjumlahan\n",
        "- : Pengurangan\n",
        "* : Perkalian\n",
        "/ : Pembagian\n",
        "% : Modulus\n",
        "**: Perpangkatan\n",
        "//: Pembagian dengan hasil pembulatan flooring\n",
        "```\n"
      ],
      "metadata": {
        "id": "IamDnM2O88PM"
      }
    },
    {
      "cell_type": "markdown",
      "source": [
        "### Contoh Penggunaan Operator Aritmatika"
      ],
      "metadata": {
        "id": "3IK0tOHT1xY6"
      }
    },
    {
      "cell_type": "code",
      "execution_count": null,
      "metadata": {
        "colab": {
          "base_uri": "https://localhost:8080/"
        },
        "id": "tnOrG6G05p_9",
        "outputId": "bb88965f-2ece-4833-f508-593c0847d2f7"
      },
      "outputs": [
        {
          "output_type": "stream",
          "name": "stdout",
          "text": [
            "Penjumlahan\n",
            "4\n",
            "Pengurangan\n",
            "--------------------\n",
            "-1\n",
            "Perkalian\n",
            "--------------------\n",
            "6\n",
            "Pembagian\n",
            "--------------------\n",
            "0.6666666666666666\n",
            "Modulus\n",
            "--------------------\n",
            "1\n",
            "Perpangkatan\n",
            "--------------------\n",
            "8\n",
            "Pembagian pembulatan flooring\n",
            "--------------------\n",
            "1\n"
          ]
        }
      ],
      "source": [
        "#Penjumlahan\n",
        "print('Penjumlahan')\n",
        "print(2+2)\n",
        "\n",
        "#Pengurangan\n",
        "print('Pengurangan')\n",
        "print('-'*20)\n",
        "print(2-3)\n",
        "\n",
        "#Perkalian\n",
        "print('Perkalian')\n",
        "print('-'*20)\n",
        "print(2*3)\n",
        "\n",
        "#Pembagian\n",
        "print('Pembagian')\n",
        "print('-'*20)\n",
        "print(2/3)\n",
        "\n",
        "#Modulus\n",
        "print('Modulus')\n",
        "print('-'*20)\n",
        "print(3%2)\n",
        "\n",
        "#Perpangkatan\n",
        "print('Perpangkatan')\n",
        "print('-'*20)\n",
        "print(2**3)\n",
        "\n",
        "#Pembagian dengan hasil pembulatan flooring\n",
        "print('Pembagian pembulatan flooring')\n",
        "print('-'*20)\n",
        "print(3//2)"
      ]
    },
    {
      "cell_type": "markdown",
      "source": [
        "###Latihan Operator 1"
      ],
      "metadata": {
        "id": "XRkysDYxEXeH"
      }
    },
    {
      "cell_type": "code",
      "source": [
        "#Buatlah Program penerapan operator Aritmatika\n",
        "#dengan nilai-nilai yang berbeda dari contoh diatas"
      ],
      "metadata": {
        "id": "Jq_31-uzEcqX"
      },
      "execution_count": null,
      "outputs": []
    },
    {
      "cell_type": "markdown",
      "source": [
        "####Jawaban"
      ],
      "metadata": {
        "id": "oUGrYcxp0vEy"
      }
    },
    {
      "cell_type": "code",
      "source": [
        "\n",
        "#Penjumlahan\n",
        "print('Penjumlahan')\n",
        "print(7+2)\n",
        "\n",
        "#Pengurangan\n",
        "print('Pengurangan')\n",
        "print('-'*20)\n",
        "print(7-3)\n",
        "\n",
        "#Perkalian\n",
        "print('Perkalian')\n",
        "print('-'*20)\n",
        "print(7*7)\n",
        "\n",
        "#Pembagian\n",
        "print('Pembagian')\n",
        "print('-'*20)\n",
        "print(30/5)\n",
        "\n",
        "#Modulus\n",
        "print('Modulus')\n",
        "print('-'*20)\n",
        "print(14%8)\n",
        "\n",
        "#Perpangkatan\n",
        "print('Perpangkatan')\n",
        "print('-'*20)\n",
        "print(9**3)\n",
        "\n",
        "#Pembagian dengan hasil pembulatan flooring\n",
        "print('Pembagian pembulatan flooring')\n",
        "print('-'*20)\n",
        "print(33//2)"
      ],
      "metadata": {
        "id": "SZ6SKkj_0rfh"
      },
      "execution_count": null,
      "outputs": []
    },
    {
      "cell_type": "markdown",
      "source": [
        "##Operator Assignment\n"
      ],
      "metadata": {
        "id": "5mXv-JQw9Ynd"
      }
    },
    {
      "cell_type": "markdown",
      "source": [
        "Operator `Assignment` digunakan untuk menyimpan nilai menjadi suatu variabel\n",
        "\n",
        "```\n",
        "=  : Contohnya x=5    -> x=5\n",
        "+= : Contohnya x=x+5  -> x+=5\n",
        "-= : Contohnya x=x-5  -> x-=5\n",
        "*= : Contohnya x=x*5  -> x*=5\n",
        "/= : Contohnya x=x/5  -> x/=5\n",
        "%= : Contohnya x=x%5  -> x%=5\n",
        "//=: Contohnya x=x//5 -> x//=5\n",
        "**=: Contohnya x=x**5 -> x**=5\n",
        "```"
      ],
      "metadata": {
        "id": "4TIwbFts81Rz"
      }
    },
    {
      "cell_type": "markdown",
      "source": [
        "###Contoh Penggunaan Operator Assignment"
      ],
      "metadata": {
        "id": "3kHd6Mfj1rDk"
      }
    },
    {
      "cell_type": "code",
      "source": [
        "#Penjumlahan\n",
        "print('Penjumlahan')\n",
        "x = 5\n",
        "x = x+5\n",
        "print(x)\n",
        "x = 5\n",
        "x += 5\n",
        "print(x)\n",
        "print('-'*20)\n",
        "\n",
        "#Pengurangan\n",
        "print('Pengurangan')\n",
        "x = 5\n",
        "x = x-5\n",
        "print(x)\n",
        "x = 5\n",
        "x -= 3\n",
        "print(x)\n",
        "print('-'*20)\n",
        "\n",
        "#Perkalian\n",
        "print('Perkalian')\n",
        "x = 5\n",
        "x = x*5\n",
        "print(x)\n",
        "x = 5\n",
        "x *= 3\n",
        "print(x)\n",
        "print('-'*20)\n",
        "\n",
        "#Pembagian\n",
        "print('Pembagian')\n",
        "x = 5\n",
        "x = x/5\n",
        "print(x)\n",
        "x = 5\n",
        "x /= 3\n",
        "print(x)\n",
        "print('-'*20)\n",
        "\n",
        "#Modulus\n",
        "print('Modulus')\n",
        "x = 5\n",
        "x = x%5\n",
        "print(x)\n",
        "x = 5\n",
        "x %= 3\n",
        "print(x)\n",
        "print('-'*20)\n",
        "\n",
        "#Pembagian Flooring\n",
        "print('Pembagian Flooring')\n",
        "x = 5\n",
        "x = x//5\n",
        "print(x)\n",
        "x = 5\n",
        "x //= 3\n",
        "print(x)\n",
        "print('-'*20)\n",
        "\n",
        "#Perpangkatan\n",
        "print('Perpangkatan')\n",
        "x = 5\n",
        "x = x**5\n",
        "print(x)\n",
        "x = 5\n",
        "x **= 3\n",
        "print(x)\n",
        "print('-'*20)"
      ],
      "metadata": {
        "colab": {
          "base_uri": "https://localhost:8080/"
        },
        "id": "oE3grG8Y1qz-",
        "outputId": "22fc23a5-877f-4c70-8a07-c7814c9057c0"
      },
      "execution_count": null,
      "outputs": [
        {
          "output_type": "stream",
          "name": "stdout",
          "text": [
            "Penjumlahan\n",
            "10\n",
            "10\n",
            "--------------------\n",
            "Pengurangan\n",
            "0\n",
            "2\n",
            "--------------------\n",
            "Perkalian\n",
            "25\n",
            "15\n",
            "--------------------\n",
            "Pembagian\n",
            "1.0\n",
            "1.6666666666666667\n",
            "--------------------\n",
            "Modulus\n",
            "0\n",
            "2\n",
            "--------------------\n",
            "Pembagian Flooring\n",
            "1\n",
            "1\n",
            "--------------------\n",
            "Perpangkatan\n",
            "3125\n",
            "125\n",
            "--------------------\n"
          ]
        }
      ]
    },
    {
      "cell_type": "markdown",
      "source": [
        "###Latihan Operator 2"
      ],
      "metadata": {
        "id": "iRvhW69m52WX"
      }
    },
    {
      "cell_type": "code",
      "source": [
        "# Buatlah program penerapan operator assignment\n",
        "# dengan nilai-nilai yang berbeda dari contoh diatas"
      ],
      "metadata": {
        "id": "zMH7ZZnP55Cl"
      },
      "execution_count": null,
      "outputs": []
    },
    {
      "cell_type": "markdown",
      "source": [
        "####Jawaban"
      ],
      "metadata": {
        "id": "LatpRoOX6Bj-"
      }
    },
    {
      "cell_type": "code",
      "source": [
        "#Penjumlahan\n",
        "print('Penjumlahan')\n",
        "x = 10\n",
        "x = x+10\n",
        "print(x)\n",
        "x = 10\n",
        "x += 10\n",
        "print(x)\n",
        "print('-'*20)\n",
        "\n",
        "#Pengurangan\n",
        "print('Pengurangan')\n",
        "x = 17\n",
        "x = x-2\n",
        "print(x)\n",
        "x = 17\n",
        "x -= 7\n",
        "print(x)\n",
        "print('-'*20)\n",
        "\n",
        "#Perkalian\n",
        "print('Perkalian')\n",
        "x = 8\n",
        "x = x*10\n",
        "print(x)\n",
        "x = 8\n",
        "x *= 10\n",
        "print(x)\n",
        "print('-'*20)\n",
        "\n",
        "#Pembagian\n",
        "print('Pembagian')\n",
        "x = 24\n",
        "x = x/4\n",
        "print(x)\n",
        "x = 24\n",
        "x /= 4\n",
        "print(x)\n",
        "print('-'*20)\n",
        "\n",
        "#Modulus\n",
        "print('Modulus')\n",
        "x = 31\n",
        "x = x%7\n",
        "print(x)\n",
        "x = 31\n",
        "x %= 7\n",
        "print(x)\n",
        "print('-'*20)\n",
        "\n",
        "#Pembagian Flooring\n",
        "print('Pembagian Flooring')\n",
        "x = 19\n",
        "x = x//5\n",
        "print(x)\n",
        "x = 19\n",
        "x //= 5\n",
        "print(x)\n",
        "print('-'*20)\n",
        "\n",
        "#Perpangkatan\n",
        "print('Perpangkatan')\n",
        "x = 8\n",
        "x = x**3\n",
        "print(x)\n",
        "x = 8\n",
        "x **= 3\n",
        "print(x)\n",
        "print('-'*20)"
      ],
      "metadata": {
        "colab": {
          "base_uri": "https://localhost:8080/"
        },
        "id": "w72hnBg36C_O",
        "outputId": "67ae8dd0-d8d2-4655-8e56-5b0f1c7ccbba"
      },
      "execution_count": null,
      "outputs": [
        {
          "output_type": "stream",
          "name": "stdout",
          "text": [
            "Penjumlahan\n",
            "20\n",
            "20\n",
            "--------------------\n",
            "Pengurangan\n",
            "15\n",
            "10\n",
            "--------------------\n",
            "Perkalian\n",
            "80\n",
            "80\n",
            "--------------------\n",
            "Pembagian\n",
            "6.0\n",
            "6.0\n",
            "--------------------\n",
            "Modulus\n",
            "3\n",
            "3\n",
            "--------------------\n",
            "Pembagian Flooring\n",
            "3\n",
            "3\n",
            "--------------------\n",
            "Perpangkatan\n",
            "512\n",
            "512\n",
            "--------------------\n"
          ]
        }
      ]
    },
    {
      "cell_type": "markdown",
      "source": [
        "##Operator Pembanding\n"
      ],
      "metadata": {
        "id": "MkhdSR0C6-kw"
      }
    },
    {
      "cell_type": "markdown",
      "source": [
        "Operator Pembanding digunakan untuk membandingkan 2 nilai atau variabel.\n",
        "\n",
        "Macam macam Operator pembanding:\n",
        "```\n",
        "== -> samadengan\n",
        "!= -> tidak samadengan\n",
        ">  -> lebih dari\n",
        "<  -> kurang dari\n",
        ">= -> lebih dari dan samadengan\n",
        "<= -> kurang dari dan samadengan\n",
        "```"
      ],
      "metadata": {
        "id": "7FIOtuxz8wjJ"
      }
    },
    {
      "cell_type": "markdown",
      "source": [
        "###Contoh penggunaan operator pembanding"
      ],
      "metadata": {
        "id": "ynQcKGMw8N1v"
      }
    },
    {
      "cell_type": "code",
      "source": [
        "print(2==2)\n",
        "print(2!=2)\n",
        "print(2>2)\n",
        "print(2<2)\n",
        "print(2>=2)\n",
        "print(2<=2)"
      ],
      "metadata": {
        "colab": {
          "base_uri": "https://localhost:8080/"
        },
        "id": "jYDxWphd7hvG",
        "outputId": "408c66df-317c-4a9d-fc76-a5b78965648f"
      },
      "execution_count": null,
      "outputs": [
        {
          "output_type": "stream",
          "name": "stdout",
          "text": [
            "True\n",
            "False\n",
            "False\n",
            "False\n",
            "True\n",
            "True\n"
          ]
        }
      ]
    },
    {
      "cell_type": "markdown",
      "source": [
        "###Latihan Operator 3"
      ],
      "metadata": {
        "id": "Xjvj0q-X8fmL"
      }
    },
    {
      "cell_type": "code",
      "source": [
        "# Buatlah program penerapan operator pembanding\n",
        "# dengan nilai nilai yang berbeda dari contoh diatas"
      ],
      "metadata": {
        "id": "QL50hcun8j8l"
      },
      "execution_count": null,
      "outputs": []
    },
    {
      "cell_type": "markdown",
      "source": [
        "####Jawaban"
      ],
      "metadata": {
        "id": "lOcN_qQr8rBQ"
      }
    },
    {
      "cell_type": "code",
      "source": [
        "print(8==2)\n",
        "print(8!=2)\n",
        "print(3>5)\n",
        "print(10<11)\n",
        "print(7>=18)\n",
        "print(5<=4)"
      ],
      "metadata": {
        "colab": {
          "base_uri": "https://localhost:8080/"
        },
        "id": "uDhAUgcm8srJ",
        "outputId": "3b7c072e-deab-4741-e8b6-2efb21cf8b1a"
      },
      "execution_count": null,
      "outputs": [
        {
          "output_type": "stream",
          "name": "stdout",
          "text": [
            "False\n",
            "True\n",
            "False\n",
            "True\n",
            "False\n",
            "False\n"
          ]
        }
      ]
    },
    {
      "cell_type": "markdown",
      "source": [
        "##Operator Logika"
      ],
      "metadata": {
        "id": "rltxOOTk9X-1"
      }
    },
    {
      "cell_type": "markdown",
      "source": [
        "Operator logika digunakan untuk mengkombinasikan statement statement kondisional.\n",
        "\n",
        "Macam macam operator logika:\n",
        "```\n",
        "and -> kondisi menjadi benar apabila semua statementnya benar\n",
        "or  -> kondisi menjadi benar apabila salah satu statementnya ada yang benar\n",
        "not -> membalik hasil dari benar ke salah dan salah ke benar\n",
        "```"
      ],
      "metadata": {
        "id": "ZtSbzm7r9arg"
      }
    },
    {
      "cell_type": "markdown",
      "source": [
        "###Contoh Penggunaan Operator Logika"
      ],
      "metadata": {
        "id": "sHclOiJK9yKD"
      }
    },
    {
      "cell_type": "code",
      "source": [
        "print(True and False)\n",
        "print(False or False)\n",
        "print(not False and True)"
      ],
      "metadata": {
        "colab": {
          "base_uri": "https://localhost:8080/"
        },
        "id": "Mxskzc8K92IQ",
        "outputId": "7fdd3d40-95c2-4403-8768-0f0b0ced0ab6"
      },
      "execution_count": null,
      "outputs": [
        {
          "output_type": "stream",
          "name": "stdout",
          "text": [
            "False\n",
            "False\n",
            "True\n"
          ]
        }
      ]
    },
    {
      "cell_type": "markdown",
      "source": [
        "### Latihan Operator 4"
      ],
      "metadata": {
        "id": "aMGHun88-ESF"
      }
    },
    {
      "cell_type": "code",
      "source": [
        "#Buatlah program penerapan operator logika\n",
        "#dengan nilai nilai yang berbeda dari contoh diatas"
      ],
      "metadata": {
        "id": "gDKva22I-GzO"
      },
      "execution_count": null,
      "outputs": []
    },
    {
      "cell_type": "markdown",
      "source": [
        "#### Jawaban"
      ],
      "metadata": {
        "id": "OkdhMom--N27"
      }
    },
    {
      "cell_type": "code",
      "source": [
        "print(False and False)\n",
        "print(True or False)\n",
        "print(not False and False)"
      ],
      "metadata": {
        "colab": {
          "base_uri": "https://localhost:8080/"
        },
        "id": "0g4RjFwA-PbR",
        "outputId": "cf4263ab-cdb4-4da0-aeb8-b96aea0ab094"
      },
      "execution_count": null,
      "outputs": [
        {
          "output_type": "stream",
          "name": "stdout",
          "text": [
            "False\n",
            "True\n",
            "False\n"
          ]
        }
      ]
    },
    {
      "cell_type": "markdown",
      "source": [
        "##Operator Membership/Keanggotaan"
      ],
      "metadata": {
        "id": "aZs9z2xt-ZZw"
      }
    },
    {
      "cell_type": "markdown",
      "source": [
        "Operator keanggotaan digunakan untuk menguji apakah urutan disajikan dalam suatu objek.\n",
        "\n",
        "Macam macam operator Keanggotaan:\n",
        "```\n",
        "in     -> return True ketika nilai tertentu dalam sebuah urutan ada\n",
        "not in -> return True ketika nilai tertentu dalam sebuah urutan tidak ada\n",
        "```"
      ],
      "metadata": {
        "id": "_-dNH56z-_P4"
      }
    },
    {
      "cell_type": "markdown",
      "source": [
        "### Contoh penggunaan operator keanggotaan"
      ],
      "metadata": {
        "id": "-iKnt3TK_Xd7"
      }
    },
    {
      "cell_type": "code",
      "source": [
        "a = (1,2,3,4,5,6)\n",
        "b = 2\n",
        "\n",
        "print(b in a)\n",
        "\n",
        "print('-'*20)\n",
        "a = (1,2,3,4,5,6)\n",
        "b = 7\n",
        "print(b not in a)"
      ],
      "metadata": {
        "colab": {
          "base_uri": "https://localhost:8080/"
        },
        "id": "t8sOOxc8_hS0",
        "outputId": "a48fa0b7-d79f-448c-dc5d-3f020a6affdd"
      },
      "execution_count": null,
      "outputs": [
        {
          "output_type": "stream",
          "name": "stdout",
          "text": [
            "True\n",
            "--------------------\n",
            "True\n"
          ]
        }
      ]
    },
    {
      "cell_type": "markdown",
      "source": [
        "###Latihan operator 5"
      ],
      "metadata": {
        "id": "wYS4iiNV_2UZ"
      }
    },
    {
      "cell_type": "code",
      "source": [
        "# Buatlah program penerapan operator keanggotaan membership\n",
        "# dengan nilai nilai yang berbeda dari contoh diatas"
      ],
      "metadata": {
        "id": "huj-0f3o_4zt"
      },
      "execution_count": null,
      "outputs": []
    },
    {
      "cell_type": "markdown",
      "source": [
        "####Jawaban"
      ],
      "metadata": {
        "id": "4wfN1NMmABSf"
      }
    },
    {
      "cell_type": "code",
      "source": [
        "x = (10,11,12,13,14,15)\n",
        "y = 9\n",
        "print(y in x)\n",
        "\n",
        "print('-'*20)\n",
        "m = (2,4,6,8,9,10,11,12,14)\n",
        "n = 14\n",
        "print(n not in m)"
      ],
      "metadata": {
        "colab": {
          "base_uri": "https://localhost:8080/"
        },
        "id": "v2uFUo52ADJq",
        "outputId": "c5af48d7-9c8a-485f-b7b1-bc9a2d32f1c1"
      },
      "execution_count": null,
      "outputs": [
        {
          "output_type": "stream",
          "name": "stdout",
          "text": [
            "False\n",
            "--------------------\n",
            "False\n"
          ]
        }
      ]
    },
    {
      "cell_type": "markdown",
      "source": [
        "#**Variabel**\n",
        "Variabel : Lokal penyimpanan yang dapat digunakan untuk menampung sebuah data atau informasi.\n",
        "\n",
        "Syarat syarat penamaan variabel:\n",
        "1. Karakter-karakter yang digunakan untuk penamaan variabel adalah alphabet, angka dan underscore.\n",
        "2. Karakter pertama variabel harus berupa huruf atau garis bawah/underscore, dan tidak bisa berupa angka\n",
        "3. Nama sebuah variabel tidak bisa menggunakan keyword atau reserved words dari bahasa python seperti for, if dan lainnya.\n",
        "4. Karakter pada nama variabel bersifat sensitif (case-sensitif)"
      ],
      "metadata": {
        "id": "yIkWXaOoAiU1"
      }
    },
    {
      "cell_type": "code",
      "source": [
        "# membuat variabel\n",
        "kalimat = 'ini adalah variabel'\n",
        "bilangan1 = 4\n",
        "bilangan2 = 2.5\n",
        "bilangan3 = True\n",
        "bilangan4 = 1j + 4\n",
        "\n",
        "#menampilkan variabel\n",
        "print(kalimat)\n",
        "print(bilangan1)\n",
        "print(bilangan2)\n",
        "print(bilangan3)\n",
        "print(bilangan4)"
      ],
      "metadata": {
        "colab": {
          "base_uri": "https://localhost:8080/"
        },
        "id": "O5XKASdoBcFZ",
        "outputId": "5c6e3a55-2a24-4406-c9d0-bd3dc24f00c2"
      },
      "execution_count": 3,
      "outputs": [
        {
          "output_type": "stream",
          "name": "stdout",
          "text": [
            "ini adalah variabel\n",
            "4\n",
            "2.5\n",
            "True\n",
            "(4+1j)\n"
          ]
        }
      ]
    },
    {
      "cell_type": "markdown",
      "source": [
        "###Latihan 1"
      ],
      "metadata": {
        "id": "jpSC0f-jB3zy"
      }
    },
    {
      "cell_type": "code",
      "source": [
        "#buatlah 5 variabel kalian sendiri dengan 5 macam tipe data\n",
        "#lalu tampilkan variabel menggunakan fungsi print"
      ],
      "metadata": {
        "id": "kp80dFZ1B5v2"
      },
      "execution_count": null,
      "outputs": []
    },
    {
      "cell_type": "markdown",
      "source": [
        "####Jawaban"
      ],
      "metadata": {
        "id": "3VIAClkFCD9l"
      }
    },
    {
      "cell_type": "code",
      "source": [
        "#Membuat Vzriabel\n",
        "a = 'PSDS 5.0 Kelas Dasar'\n",
        "b = 21\n",
        "c = 7.4\n",
        "d = False\n",
        "e = 7j + 4\n",
        "\n",
        "#Menampilkan variabel\n",
        "print(a)\n",
        "print(b)\n",
        "print(c)\n",
        "print(d)\n",
        "print(e)"
      ],
      "metadata": {
        "id": "_PZ-8YVPCF01",
        "colab": {
          "base_uri": "https://localhost:8080/"
        },
        "outputId": "6cb8e865-200b-48f2-8073-bbcc174ca9ab"
      },
      "execution_count": 1,
      "outputs": [
        {
          "output_type": "stream",
          "name": "stdout",
          "text": [
            "PSDS 5.0 Kelas Dasar\n",
            "21\n",
            "7.4\n",
            "False\n",
            "(4+7j)\n"
          ]
        }
      ]
    },
    {
      "cell_type": "markdown",
      "source": [
        "#**Tipe Data & Konversi Tipe Data**"
      ],
      "metadata": {
        "id": "SI-wF5IL_9r2"
      }
    },
    {
      "cell_type": "markdown",
      "source": [
        "## Tipe Data\n",
        "\n",
        "5 tipe data yaitu\n",
        "1. Integer atau bilangan bulat\n",
        "2. Float atau bilangan desimal\n",
        "3. String atau kalimat\n",
        "4. Boolean yang terdiri dari True dan False\n",
        "5. Complex yang merupakan bilangan kompleks"
      ],
      "metadata": {
        "id": "NgD4pNta12qn"
      }
    },
    {
      "cell_type": "code",
      "source": [
        "#Menampilkan tipe data\n",
        "print(type(kalimat))\n",
        "print(type(bilangan1))\n",
        "print(type(bilangan2))\n",
        "print(type(bilangan3))\n",
        "print(type(bilangan4))"
      ],
      "metadata": {
        "colab": {
          "base_uri": "https://localhost:8080/"
        },
        "id": "gK7jFDhcAFHf",
        "outputId": "5d3a5896-6b24-43e8-e8e9-6e948251deeb"
      },
      "execution_count": 4,
      "outputs": [
        {
          "output_type": "stream",
          "name": "stdout",
          "text": [
            "<class 'str'>\n",
            "<class 'int'>\n",
            "<class 'float'>\n",
            "<class 'bool'>\n",
            "<class 'complex'>\n"
          ]
        }
      ]
    },
    {
      "cell_type": "markdown",
      "source": [
        "###Latihan 2"
      ],
      "metadata": {
        "id": "Iwxy2dbW2b10"
      }
    },
    {
      "cell_type": "code",
      "source": [
        "# cek tipe data variabel yang telah kalian buat pada latihan 1"
      ],
      "metadata": {
        "id": "XednKty32gmY"
      },
      "execution_count": null,
      "outputs": []
    },
    {
      "cell_type": "markdown",
      "source": [
        "####Jawaban"
      ],
      "metadata": {
        "id": "wQ6fdjPY2f4j"
      }
    },
    {
      "cell_type": "code",
      "source": [
        "#Menampilkan tipe data\n",
        "print(type(a))\n",
        "print(type(b))\n",
        "print(type(c))\n",
        "print(type(d))\n",
        "print(type(e))"
      ],
      "metadata": {
        "id": "VfTi6q_1CMlB",
        "colab": {
          "base_uri": "https://localhost:8080/"
        },
        "outputId": "fed5b27e-dc18-46d3-d282-686595aee445"
      },
      "execution_count": 5,
      "outputs": [
        {
          "output_type": "stream",
          "name": "stdout",
          "text": [
            "<class 'str'>\n",
            "<class 'int'>\n",
            "<class 'float'>\n",
            "<class 'bool'>\n",
            "<class 'complex'>\n"
          ]
        }
      ]
    },
    {
      "cell_type": "markdown",
      "source": [
        "## Konversi Tipe Data"
      ],
      "metadata": {
        "id": "poOVtgOc2xxu"
      }
    },
    {
      "cell_type": "code",
      "source": [
        "#konversi tipe data integer\n",
        "print(int(bilangan2))\n",
        "print(int(bilangan3))\n",
        "\n",
        "#konversi tipe data float\n",
        "print(float(bilangan1))\n",
        "print(float(bilangan3))\n",
        "\n",
        "#konversi tipe data string\n",
        "print(str(bilangan1))\n",
        "print(str(bilangan2))\n",
        "print(str(bilangan3))\n",
        "\n",
        "#konversi tipe data bool\n",
        "print(bool(bilangan1))\n",
        "print(bool(bilangan2))\n",
        "\n",
        "#konversi tipe data complex\n",
        "print(complex(bilangan1))\n",
        "print(complex(bilangan2))\n",
        "print(complex(bilangan3))"
      ],
      "metadata": {
        "colab": {
          "base_uri": "https://localhost:8080/"
        },
        "id": "eEp90zwL20Ym",
        "outputId": "fbde3d2b-8bfd-49d9-87d5-9fa0f67694da"
      },
      "execution_count": 6,
      "outputs": [
        {
          "output_type": "stream",
          "name": "stdout",
          "text": [
            "2\n",
            "1\n",
            "4.0\n",
            "1.0\n",
            "4\n",
            "2.5\n",
            "True\n",
            "True\n",
            "True\n",
            "(4+0j)\n",
            "(2.5+0j)\n",
            "(1+0j)\n"
          ]
        }
      ]
    },
    {
      "cell_type": "markdown",
      "source": [
        "###Latihan 3"
      ],
      "metadata": {
        "id": "m0SSx9Sg3jMc"
      }
    },
    {
      "cell_type": "code",
      "source": [
        "#konversi tipe data yang telah kalian buat\n",
        "#menjadi berbagai macam tipe data"
      ],
      "metadata": {
        "id": "rbn3JxUB3lGq"
      },
      "execution_count": null,
      "outputs": []
    },
    {
      "cell_type": "markdown",
      "source": [
        "####Jawaban"
      ],
      "metadata": {
        "id": "AXUdywfM3rU3"
      }
    },
    {
      "cell_type": "code",
      "source": [
        "#konversi tipe data integer\n",
        "print(int(c))\n",
        "print(int(d))\n"
      ],
      "metadata": {
        "colab": {
          "base_uri": "https://localhost:8080/"
        },
        "id": "N-rroujU3suh",
        "outputId": "91b10e72-915d-412d-cae0-7165a0fa8ef7"
      },
      "execution_count": 8,
      "outputs": [
        {
          "output_type": "stream",
          "name": "stdout",
          "text": [
            "7\n",
            "0\n"
          ]
        }
      ]
    },
    {
      "cell_type": "code",
      "source": [
        "#konversi tipe data float\n",
        "print(float(b))\n",
        "print(float(d))\n"
      ],
      "metadata": {
        "colab": {
          "base_uri": "https://localhost:8080/"
        },
        "id": "UKmjaZmz31ka",
        "outputId": "74e5f5d6-f815-44e7-c128-e923624b7832"
      },
      "execution_count": 9,
      "outputs": [
        {
          "output_type": "stream",
          "name": "stdout",
          "text": [
            "21.0\n",
            "0.0\n"
          ]
        }
      ]
    },
    {
      "cell_type": "code",
      "source": [
        "#konversi tipe data string\n",
        "print(str(b))\n",
        "print(str(c))\n",
        "print(str(d))\n",
        "print(str(e))\n"
      ],
      "metadata": {
        "colab": {
          "base_uri": "https://localhost:8080/"
        },
        "id": "tnC5rPnj35X5",
        "outputId": "e3a4e51c-4c4e-484b-adf6-30e9d4f7a4e6"
      },
      "execution_count": 10,
      "outputs": [
        {
          "output_type": "stream",
          "name": "stdout",
          "text": [
            "21\n",
            "7.4\n",
            "False\n",
            "(4+7j)\n"
          ]
        }
      ]
    },
    {
      "cell_type": "code",
      "source": [
        "#konversi tipe data bool\n",
        "print(bool(b))\n",
        "print(bool(c))\n",
        "print(bool(d))"
      ],
      "metadata": {
        "colab": {
          "base_uri": "https://localhost:8080/"
        },
        "id": "2JqcZb8W37E5",
        "outputId": "8d56ef43-0045-41ef-f0b9-9181483568c1"
      },
      "execution_count": 11,
      "outputs": [
        {
          "output_type": "stream",
          "name": "stdout",
          "text": [
            "True\n",
            "True\n",
            "False\n"
          ]
        }
      ]
    },
    {
      "cell_type": "code",
      "source": [
        "#konversi tipe data complex\n",
        "print(complex(b))\n",
        "print(complex(c))\n",
        "print(complex(d))"
      ],
      "metadata": {
        "colab": {
          "base_uri": "https://localhost:8080/"
        },
        "id": "L5d8BqIa38hm",
        "outputId": "13eab8f8-a9f9-424e-f54f-16346ac55521"
      },
      "execution_count": 12,
      "outputs": [
        {
          "output_type": "stream",
          "name": "stdout",
          "text": [
            "(21+0j)\n",
            "(7.4+0j)\n",
            "0j\n"
          ]
        }
      ]
    }
  ]
}