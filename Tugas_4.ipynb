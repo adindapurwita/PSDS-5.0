{
  "nbformat": 4,
  "nbformat_minor": 0,
  "metadata": {
    "colab": {
      "provenance": [],
      "authorship_tag": "ABX9TyO4yEOj9HDmSsLg6F8jQFUH",
      "include_colab_link": true
    },
    "kernelspec": {
      "name": "python3",
      "display_name": "Python 3"
    },
    "language_info": {
      "name": "python"
    }
  },
  "cells": [
    {
      "cell_type": "markdown",
      "metadata": {
        "id": "view-in-github",
        "colab_type": "text"
      },
      "source": [
        "<a href=\"https://colab.research.google.com/github/adindapurwita/PSDS-5.0/blob/main/Tugas_4.ipynb\" target=\"_parent\"><img src=\"https://colab.research.google.com/assets/colab-badge.svg\" alt=\"Open In Colab\"/></a>"
      ]
    },
    {
      "cell_type": "markdown",
      "source": [
        "#List\n",
        "List adalah kumpulan data terurut (ordered sequence), bisa diubah elemennya (mutable), bisa ditambahkan elemen baru atau menghapus elemen (changeable), dan merupakan salah satu variabel yang sering digunakan pada python. Serupa, namu tak sama dengan array pada bahasa pemrograman lainnya. Bedanya, elemen List pada Python tidak harus memiliki tipe data yang sama. Mendeklarasikan List cukup muda dengan kurung siku dan elemen yang dipisahkan dengan koma.\n",
        "\n",
        "Setiap data di dalamnya dapat diakses dengan indeks yang dimulai dari 0."
      ],
      "metadata": {
        "id": "cuEwAcYHXYaP"
      }
    },
    {
      "cell_type": "code",
      "execution_count": 1,
      "metadata": {
        "colab": {
          "base_uri": "https://localhost:8080/"
        },
        "id": "xMvNYWAzXCIm",
        "outputId": "a1aefbb7-69a5-43c3-813b-a8bb05b6971e"
      },
      "outputs": [
        {
          "output_type": "stream",
          "name": "stdout",
          "text": [
            "<class 'list'>\n"
          ]
        }
      ],
      "source": [
        "#Contoh list\n",
        "L1 = [1, 4, 2, 13]\n",
        "print(type(L1))"
      ]
    },
    {
      "cell_type": "code",
      "source": [
        "L2 = [\"a\", \"Python\", 3]\n",
        "print(type(L2))"
      ],
      "metadata": {
        "colab": {
          "base_uri": "https://localhost:8080/"
        },
        "id": "lsH_U91cTcuO",
        "outputId": "bd6c4bf0-68d3-4056-b197-d307801a6495"
      },
      "execution_count": 2,
      "outputs": [
        {
          "output_type": "stream",
          "name": "stdout",
          "text": [
            "<class 'list'>\n"
          ]
        }
      ]
    },
    {
      "cell_type": "code",
      "source": [
        "print(L1)\n",
        "print(L2)"
      ],
      "metadata": {
        "colab": {
          "base_uri": "https://localhost:8080/"
        },
        "id": "3fQJLNQiTkcL",
        "outputId": "9bb8e988-5b90-4d63-9777-45d4357aae23"
      },
      "execution_count": 3,
      "outputs": [
        {
          "output_type": "stream",
          "name": "stdout",
          "text": [
            "[1, 4, 2, 13]\n",
            "['a', 'Python', 3]\n"
          ]
        }
      ]
    },
    {
      "cell_type": "markdown",
      "source": [
        "Indeks di Python (List, Tuple) mulai dari 0"
      ],
      "metadata": {
        "id": "7SWjUerCTq0p"
      }
    },
    {
      "cell_type": "code",
      "source": [
        "#Sifat - sifat List\n",
        "\n",
        "#Terurut/ Ordered\n",
        "print(\"Memanggil List L1 dengan indeks urutan:\", L1[0:3])\n",
        "\n",
        "#Bisa Diganti/Mutable\n",
        "L1[1] = 2\n",
        "print(\"List L1 setelah diganti elemennya:\", L1)\n",
        "\n",
        "L1 = [1, \"dua\", True, 2+3j]\n",
        "\n",
        "#Dapat Diindeks/Slicing\n",
        "print(\"Slicing List L1:\", L1[3])\n",
        "\n",
        "#Dapat Diijinkan Duplikasi\n",
        "L1 = [1,\"dua\",True, 2+3j, 2+3j]\n",
        "print(\"Duplikasi pada List L1: \", L1)\n",
        "\n",
        "#Dapat mengubah data dengan mengganti elemen tertentu\n",
        "L1 = [1, \"dua\", True, 2+3j]\n",
        "L1[2]=3\n",
        "print(\"Data setelah diubah:\", L1)\n",
        "\n",
        "#Dapat menambahkan elemen baru pada data\n",
        "L1 = [1, \"dua\", True, 2+3j]\n",
        "L1.append(20)\n",
        "print(\"Data setelah ditambahkan elemennya:\", L1)\n",
        "\n",
        "#Dapat menghapus elemen pada data (remove() = menghapus berdasarkan nama objek)\n",
        "L1 = [1, \"dua\", True, 2+3j]\n",
        "L1.remove(2+3j)\n",
        "print(\"Data setelah dihapus elemennya:\", L1)"
      ],
      "metadata": {
        "id": "8O-E39jMYMBo",
        "colab": {
          "base_uri": "https://localhost:8080/"
        },
        "outputId": "7c4b2bd8-d8cd-43ae-da77-24e1b492cda6"
      },
      "execution_count": 4,
      "outputs": [
        {
          "output_type": "stream",
          "name": "stdout",
          "text": [
            "Memanggil List L1 dengan indeks urutan: [1, 4, 2]\n",
            "List L1 setelah diganti elemennya: [1, 2, 2, 13]\n",
            "Slicing List L1: (2+3j)\n",
            "Duplikasi pada List L1:  [1, 'dua', True, (2+3j), (2+3j)]\n",
            "Data setelah diubah: [1, 'dua', 3, (2+3j)]\n",
            "Data setelah ditambahkan elemennya: [1, 'dua', True, (2+3j), 20]\n",
            "Data setelah dihapus elemennya: [1, 'dua', True]\n"
          ]
        }
      ]
    },
    {
      "cell_type": "code",
      "source": [
        "#Menambahkan data menggunakan fungsi extend(menambahkan elemen baru pada list namun elemen tersebut ditambahkan secara individu)\n",
        "L1 = [1, \"dua\", True, 2+3j]\n",
        "L1.extend(\"nanas\")\n",
        "print(L1)"
      ],
      "metadata": {
        "colab": {
          "base_uri": "https://localhost:8080/"
        },
        "id": "eWQjMiThVBJw",
        "outputId": "3d55fd93-0ef7-4a8e-e9ef-20286c85389b"
      },
      "execution_count": 5,
      "outputs": [
        {
          "output_type": "stream",
          "name": "stdout",
          "text": [
            "[1, 'dua', True, (2+3j), 'n', 'a', 'n', 'a', 's']\n"
          ]
        }
      ]
    },
    {
      "cell_type": "code",
      "source": [
        "L1 = [1, \"dua\", True, 2+3j]\n",
        "L1.extend([\"nanas\"])\n",
        "print(L1)"
      ],
      "metadata": {
        "colab": {
          "base_uri": "https://localhost:8080/"
        },
        "id": "3TbA33JhVUrH",
        "outputId": "2d7a9fc1-a67d-442a-a009-b9ea22622724"
      },
      "execution_count": 6,
      "outputs": [
        {
          "output_type": "stream",
          "name": "stdout",
          "text": [
            "[1, 'dua', True, (2+3j), 'nanas']\n"
          ]
        }
      ]
    },
    {
      "cell_type": "code",
      "source": [
        "#Menambahkan data menggunakan fungsi insert(menambahkan elemen baru di list pada indeks tertentu)\n",
        "L1 = [1, \"dua\", True, 2+3j]\n",
        "L1.insert(2, 5)\n",
        "print(L1)"
      ],
      "metadata": {
        "colab": {
          "base_uri": "https://localhost:8080/"
        },
        "id": "e2ZPkrsDVfAo",
        "outputId": "3b1a3db1-6f1c-41cf-90a0-c438aef10218"
      },
      "execution_count": 7,
      "outputs": [
        {
          "output_type": "stream",
          "name": "stdout",
          "text": [
            "[1, 'dua', 5, True, (2+3j)]\n"
          ]
        }
      ]
    },
    {
      "cell_type": "code",
      "source": [
        "#Menghapus elemen dari list menggunakan fungsi pop() (menghapus berdasarkan indeks)\n",
        "L1 = [1, \"dua\", True, 2+3j]\n",
        "L1.pop(2)\n",
        "print(L1)"
      ],
      "metadata": {
        "colab": {
          "base_uri": "https://localhost:8080/"
        },
        "id": "BJ4WjGvbVuq-",
        "outputId": "80dc2afe-c4de-4505-f24d-4d0e15aae855"
      },
      "execution_count": 8,
      "outputs": [
        {
          "output_type": "stream",
          "name": "stdout",
          "text": [
            "[1, 'dua', (2+3j)]\n"
          ]
        }
      ]
    },
    {
      "cell_type": "code",
      "source": [
        "L1 = [1, \"dua\", True, 2+3j]\n",
        "L1.pop()\n",
        "print(L1)"
      ],
      "metadata": {
        "colab": {
          "base_uri": "https://localhost:8080/"
        },
        "id": "tLVfVFS4WCBs",
        "outputId": "e45242f6-5748-4b62-dc5d-ee265c993cc6"
      },
      "execution_count": 9,
      "outputs": [
        {
          "output_type": "stream",
          "name": "stdout",
          "text": [
            "[1, 'dua', True]\n"
          ]
        }
      ]
    },
    {
      "cell_type": "markdown",
      "source": [
        "**Latihan 1**"
      ],
      "metadata": {
        "id": "YhfkKWKKbkFq"
      }
    },
    {
      "cell_type": "code",
      "source": [
        "#Buatlah List kalian sendiri\n",
        "\n",
        "Hewan = [\"Kucing\", \"Ikan\", \"Kura-kura\", \"Hamster\", \"Ayam\"]\n",
        "print(Hewan)"
      ],
      "metadata": {
        "colab": {
          "base_uri": "https://localhost:8080/"
        },
        "id": "D6NTldmbbntm",
        "outputId": "b822dbcd-5e79-46c5-8656-e8772ba56ee8"
      },
      "execution_count": null,
      "outputs": [
        {
          "output_type": "stream",
          "name": "stdout",
          "text": [
            "['Kucing', 'Ikan', 'Kura-kura', 'Hamster', 'Ayam']\n"
          ]
        }
      ]
    },
    {
      "cell_type": "markdown",
      "source": [
        "**Latihan 2**"
      ],
      "metadata": {
        "id": "qukTNz9bWQv2"
      }
    },
    {
      "cell_type": "code",
      "source": [
        "#Ganti elemen yang ada pada List yang kaliat buat"
      ],
      "metadata": {
        "id": "bSHlRetaWSPN"
      },
      "execution_count": null,
      "outputs": []
    },
    {
      "cell_type": "code",
      "source": [
        "#Menambahkan data menggunakan fungsi extend(menambahkan elemen baru pada list namun )\n",
        "Hewan = [\"Kucing\", \"Ikan\", \"Kura-kura\", \"Hamster\", \"Ayam\"]\n",
        "Hewan.extend(\"Kuda\")\n",
        "print(Hewan)"
      ],
      "metadata": {
        "colab": {
          "base_uri": "https://localhost:8080/"
        },
        "id": "Uc8Io4H3cLy5",
        "outputId": "63ed0172-bbe8-4e76-ebc9-253e873568c6"
      },
      "execution_count": null,
      "outputs": [
        {
          "output_type": "stream",
          "name": "stdout",
          "text": [
            "['Kucing', 'Ikan', 'Kura-kura', 'Hamster', 'Ayam', 'K', 'u', 'd', 'a']\n"
          ]
        }
      ]
    },
    {
      "cell_type": "code",
      "source": [
        "Hewan = [\"Kucing\", \"Ikan\", \"Kura-kura\", \"Hamster\", \"Ayam\"]\n",
        "Hewan.extend([\"Kuda\"])\n",
        "print(Hewan)"
      ],
      "metadata": {
        "colab": {
          "base_uri": "https://localhost:8080/"
        },
        "id": "C0W-FZgSciF9",
        "outputId": "3de4878d-54a0-4486-f504-816320bdc4b5"
      },
      "execution_count": null,
      "outputs": [
        {
          "output_type": "stream",
          "name": "stdout",
          "text": [
            "['Kucing', 'Ikan', 'Kura-kura', 'Hamster', 'Ayam', 'Kuda']\n"
          ]
        }
      ]
    },
    {
      "cell_type": "code",
      "source": [
        "#Menambahkan data menggunakan fungsi insert(menambahkan elemen baru di list pada indeks tertentu)\n",
        "Hewan = [\"Kucing\", \"Ikan\", \"Kura-kura\", \"Hamster\", \"Ayam\"]\n",
        "Hewan.insert(3,\"Kuda\")\n",
        "print(Hewan)"
      ],
      "metadata": {
        "colab": {
          "base_uri": "https://localhost:8080/"
        },
        "id": "aoWBbkq5cq4d",
        "outputId": "ae2cbc44-ad98-4ed7-b085-239846758382"
      },
      "execution_count": null,
      "outputs": [
        {
          "output_type": "stream",
          "name": "stdout",
          "text": [
            "['Kucing', 'Ikan', 'Kura-kura', 'Kuda', 'Hamster', 'Ayam']\n"
          ]
        }
      ]
    },
    {
      "cell_type": "code",
      "source": [
        "#Mengubah data\n",
        "Hewan = [\"Kucing\", \"Ikan\", \"KUra-kura\", \"Hamster\", \"Ayam\"]\n",
        "Hewan[2]=\"Kijang\"\n",
        "print(\"Data setelah diubah: \", Hewan)"
      ],
      "metadata": {
        "colab": {
          "base_uri": "https://localhost:8080/"
        },
        "id": "vesfjVDJWcns",
        "outputId": "da29a930-3086-4034-993b-ef1ecb3d91c1"
      },
      "execution_count": 10,
      "outputs": [
        {
          "output_type": "stream",
          "name": "stdout",
          "text": [
            "Data setelah diubah:  ['Kucing', 'Ikan', 'Kijang', 'Hamster', 'Ayam']\n"
          ]
        }
      ]
    },
    {
      "cell_type": "markdown",
      "source": [
        "#Struktur Data Tuple\n",
        "Tuple adalah jenis dari struktur data yang tidak dapat diubah elemennya dan juga tidak bisa ditambahkan atau dihapus elemennya. Umumnya tuple digunakan untuk data yang bersifat sekali tulis, dan dapat dieksekusi lebih cepat. Tuple didefinisikan dengan kurung dan elemen yang dipisahkan dengan koma."
      ],
      "metadata": {
        "id": "wCs55cp_egxs"
      }
    },
    {
      "cell_type": "code",
      "source": [
        "#Contoh Tuple\n",
        "T1 = (1, \"dua\", True, 1+2j)\n",
        "print(\"ini adalah tuple\", T1)"
      ],
      "metadata": {
        "colab": {
          "base_uri": "https://localhost:8080/"
        },
        "id": "JwJDf9bqXNzF",
        "outputId": "7c72f79d-62f9-4f42-c39f-a67d91637bc0"
      },
      "execution_count": 11,
      "outputs": [
        {
          "output_type": "stream",
          "name": "stdout",
          "text": [
            "ini adalah tuple (1, 'dua', True, (1+2j))\n"
          ]
        }
      ]
    },
    {
      "cell_type": "code",
      "source": [
        "T11 = 1, \"dua\", True, 1+2j\n",
        "print(\"ini adalah tuple\", T11)"
      ],
      "metadata": {
        "colab": {
          "base_uri": "https://localhost:8080/"
        },
        "id": "giUofYvPXYRQ",
        "outputId": "c20fefff-028d-4200-e642-0cce57de1d2c"
      },
      "execution_count": 12,
      "outputs": [
        {
          "output_type": "stream",
          "name": "stdout",
          "text": [
            "ini adalah tuple (1, 'dua', True, (1+2j))\n"
          ]
        }
      ]
    },
    {
      "cell_type": "code",
      "source": [
        "#Menampilkan tipe struktur data\n",
        "type(T1)\n",
        "type(T11)"
      ],
      "metadata": {
        "colab": {
          "base_uri": "https://localhost:8080/"
        },
        "id": "spgU127FXiNh",
        "outputId": "a4bce27d-ecb6-4420-ced6-e80ed270cea1"
      },
      "execution_count": 13,
      "outputs": [
        {
          "output_type": "execute_result",
          "data": {
            "text/plain": [
              "tuple"
            ]
          },
          "metadata": {},
          "execution_count": 13
        }
      ]
    },
    {
      "cell_type": "markdown",
      "source": [
        "**Sifat-sifat Tuple**"
      ],
      "metadata": {
        "id": "8Vm5KdrrXpPr"
      }
    },
    {
      "cell_type": "code",
      "source": [
        "#Terurut/Oreded\n",
        "T1 = (1, \"dua\", True, 1+2j)\n",
        "T1[0:3]"
      ],
      "metadata": {
        "colab": {
          "base_uri": "https://localhost:8080/"
        },
        "id": "D7qTO-3_e-JY",
        "outputId": "1dde624b-cc23-46ae-b31d-a4e30ea3beb0"
      },
      "execution_count": null,
      "outputs": [
        {
          "output_type": "execute_result",
          "data": {
            "text/plain": [
              "(1, 'dua', True)"
            ]
          },
          "metadata": {},
          "execution_count": 8
        }
      ]
    },
    {
      "cell_type": "code",
      "source": [
        "#Tidak bisa diganti/Immutable\n",
        "T1[2]=\"manusia\""
      ],
      "metadata": {
        "colab": {
          "base_uri": "https://localhost:8080/",
          "height": 183
        },
        "id": "hRBpRrsFXuvs",
        "outputId": "9434530d-b35f-47fb-f1f7-a88569a98be2"
      },
      "execution_count": 14,
      "outputs": [
        {
          "output_type": "error",
          "ename": "TypeError",
          "evalue": "ignored",
          "traceback": [
            "\u001b[0;31m---------------------------------------------------------------------------\u001b[0m",
            "\u001b[0;31mTypeError\u001b[0m                                 Traceback (most recent call last)",
            "\u001b[0;32m<ipython-input-14-8a679059d6e3>\u001b[0m in \u001b[0;36m<cell line: 2>\u001b[0;34m()\u001b[0m\n\u001b[1;32m      1\u001b[0m \u001b[0;31m#Tidak bisa diganti/Immutable\u001b[0m\u001b[0;34m\u001b[0m\u001b[0;34m\u001b[0m\u001b[0m\n\u001b[0;32m----> 2\u001b[0;31m \u001b[0mT1\u001b[0m\u001b[0;34m[\u001b[0m\u001b[0;36m2\u001b[0m\u001b[0;34m]\u001b[0m\u001b[0;34m=\u001b[0m\u001b[0;34m\"manusia\"\u001b[0m\u001b[0;34m\u001b[0m\u001b[0;34m\u001b[0m\u001b[0m\n\u001b[0m",
            "\u001b[0;31mTypeError\u001b[0m: 'tuple' object does not support item assignment"
          ]
        }
      ]
    },
    {
      "cell_type": "code",
      "source": [
        "#Dapat diindeks/slicing\n",
        "print(\"elemen kedua dari tuple T1 adalah: \", T1[1])"
      ],
      "metadata": {
        "colab": {
          "base_uri": "https://localhost:8080/"
        },
        "id": "TKV91VnvfL0n",
        "outputId": "4589627b-6849-49f9-b0b4-d1c6be9a8757"
      },
      "execution_count": null,
      "outputs": [
        {
          "output_type": "stream",
          "name": "stdout",
          "text": [
            "elemen kedua dari tuple T1 adalah:  dua\n"
          ]
        }
      ]
    },
    {
      "cell_type": "code",
      "source": [
        "#Daoat diijinkan duplikasi\n",
        "T2 = (3, 2.4, True, 2.4)\n",
        "T2"
      ],
      "metadata": {
        "colab": {
          "base_uri": "https://localhost:8080/"
        },
        "id": "qpdBqri9fT7y",
        "outputId": "505ada9c-627c-41b2-f974-68459e8b97b3"
      },
      "execution_count": 20,
      "outputs": [
        {
          "output_type": "execute_result",
          "data": {
            "text/plain": [
              "(3, 2.4, True, 2.4)"
            ]
          },
          "metadata": {},
          "execution_count": 20
        }
      ]
    },
    {
      "cell_type": "code",
      "source": [
        "#tidak dapat menambah elemen baru\n",
        "T1 = (1, \"dua\", True, 1+2j)\n",
        "print(f' tuple\\t: {T1}')"
      ],
      "metadata": {
        "id": "98SgQds0fb8K",
        "colab": {
          "base_uri": "https://localhost:8080/"
        },
        "outputId": "56e4bea7-c317-45c9-cff5-5bcb1fbc8dad"
      },
      "execution_count": 15,
      "outputs": [
        {
          "output_type": "stream",
          "name": "stdout",
          "text": [
            " tuple\t: (1, 'dua', True, (1+2j))\n"
          ]
        }
      ]
    },
    {
      "cell_type": "code",
      "source": [
        "T1.append(10)\n",
        "T1.append(50)"
      ],
      "metadata": {
        "colab": {
          "base_uri": "https://localhost:8080/",
          "height": 183
        },
        "id": "x06GpKtzYFer",
        "outputId": "16f1ed28-83b1-4021-9281-5ff0fffcfd6b"
      },
      "execution_count": 16,
      "outputs": [
        {
          "output_type": "error",
          "ename": "AttributeError",
          "evalue": "ignored",
          "traceback": [
            "\u001b[0;31m---------------------------------------------------------------------------\u001b[0m",
            "\u001b[0;31mAttributeError\u001b[0m                            Traceback (most recent call last)",
            "\u001b[0;32m<ipython-input-16-85f530325e0c>\u001b[0m in \u001b[0;36m<cell line: 1>\u001b[0;34m()\u001b[0m\n\u001b[0;32m----> 1\u001b[0;31m \u001b[0mT1\u001b[0m\u001b[0;34m.\u001b[0m\u001b[0mappend\u001b[0m\u001b[0;34m(\u001b[0m\u001b[0;36m10\u001b[0m\u001b[0;34m)\u001b[0m\u001b[0;34m\u001b[0m\u001b[0;34m\u001b[0m\u001b[0m\n\u001b[0m\u001b[1;32m      2\u001b[0m \u001b[0mT1\u001b[0m\u001b[0;34m.\u001b[0m\u001b[0mappend\u001b[0m\u001b[0;34m(\u001b[0m\u001b[0;36m50\u001b[0m\u001b[0;34m)\u001b[0m\u001b[0;34m\u001b[0m\u001b[0;34m\u001b[0m\u001b[0m\n",
            "\u001b[0;31mAttributeError\u001b[0m: 'tuple' object has no attribute 'append'"
          ]
        }
      ]
    },
    {
      "cell_type": "code",
      "source": [
        "#tidak dapat menghapus elemen\n",
        "T1 = (1, \"dua\", True, 1+2j)\n",
        "print(f' tuple\\t: {T1}')"
      ],
      "metadata": {
        "colab": {
          "base_uri": "https://localhost:8080/"
        },
        "id": "oBnu5JtTYMwv",
        "outputId": "f0a1b94b-c9e8-4735-b8b1-0373c6f945a8"
      },
      "execution_count": 17,
      "outputs": [
        {
          "output_type": "stream",
          "name": "stdout",
          "text": [
            " tuple\t: (1, 'dua', True, (1+2j))\n"
          ]
        }
      ]
    },
    {
      "cell_type": "code",
      "source": [
        "T1.remove(1)\n",
        "T1.remove(f' tuple\\t: {T1}')"
      ],
      "metadata": {
        "colab": {
          "base_uri": "https://localhost:8080/",
          "height": 183
        },
        "id": "WxaTgioTYWQ3",
        "outputId": "cb7f284b-ac09-41de-90fc-ee2fdbd7068d"
      },
      "execution_count": 18,
      "outputs": [
        {
          "output_type": "error",
          "ename": "AttributeError",
          "evalue": "ignored",
          "traceback": [
            "\u001b[0;31m---------------------------------------------------------------------------\u001b[0m",
            "\u001b[0;31mAttributeError\u001b[0m                            Traceback (most recent call last)",
            "\u001b[0;32m<ipython-input-18-4c3ab2a8fe9b>\u001b[0m in \u001b[0;36m<cell line: 1>\u001b[0;34m()\u001b[0m\n\u001b[0;32m----> 1\u001b[0;31m \u001b[0mT1\u001b[0m\u001b[0;34m.\u001b[0m\u001b[0mremove\u001b[0m\u001b[0;34m(\u001b[0m\u001b[0;36m1\u001b[0m\u001b[0;34m)\u001b[0m\u001b[0;34m\u001b[0m\u001b[0;34m\u001b[0m\u001b[0m\n\u001b[0m\u001b[1;32m      2\u001b[0m \u001b[0mT1\u001b[0m\u001b[0;34m.\u001b[0m\u001b[0mremove\u001b[0m\u001b[0;34m(\u001b[0m\u001b[0;34mf' tuple\\t: {T1}'\u001b[0m\u001b[0;34m)\u001b[0m\u001b[0;34m\u001b[0m\u001b[0;34m\u001b[0m\u001b[0m\n",
            "\u001b[0;31mAttributeError\u001b[0m: 'tuple' object has no attribute 'remove'"
          ]
        }
      ]
    },
    {
      "cell_type": "markdown",
      "source": [
        "**Menggabungkan tuple**"
      ],
      "metadata": {
        "id": "i2eTG4HnYduK"
      }
    },
    {
      "cell_type": "code",
      "source": [
        "#menggabungkan tuple\n",
        "T3 = T1 +T2\n",
        "T3"
      ],
      "metadata": {
        "colab": {
          "base_uri": "https://localhost:8080/"
        },
        "id": "1zp5dEMAYgAe",
        "outputId": "18a3e79f-3ae0-4750-c5ab-97d24284c8f8"
      },
      "execution_count": 21,
      "outputs": [
        {
          "output_type": "execute_result",
          "data": {
            "text/plain": [
              "(1, 'dua', True, (1+2j), 3, 2.4, True, 2.4)"
            ]
          },
          "metadata": {},
          "execution_count": 21
        }
      ]
    },
    {
      "cell_type": "markdown",
      "source": [
        "**Latihan**\n"
      ],
      "metadata": {
        "id": "jAxysP4-YvAk"
      }
    },
    {
      "cell_type": "code",
      "source": [
        "#Buatlah tuplemu sendiri\n",
        "T1 = (2, True, 3+5j)\n",
        "T2 = (\"hello\", 7, 5.6)\n",
        "print(f' tuple 1\\t: {T1}')\n",
        "print(f' tuple 2\\t: {T2}')\n",
        "\n",
        "#Latihan 2\n",
        "#Buatlah tuple kedua lalu gabungkan 2 tuple yang telah kamu buat\n",
        "T3 = T1+T2\n",
        "print(f' tuple 3\\t: {T3}')"
      ],
      "metadata": {
        "colab": {
          "base_uri": "https://localhost:8080/"
        },
        "id": "6gmwT0ZpgtqA",
        "outputId": "89dc7518-62f2-4374-e6b0-75ff00ac7145"
      },
      "execution_count": 22,
      "outputs": [
        {
          "output_type": "stream",
          "name": "stdout",
          "text": [
            " tuple 1\t: (2, True, (3+5j))\n",
            " tuple 2\t: ('hello', 7, 5.6)\n",
            " tuple 3\t: (2, True, (3+5j), 'hello', 7, 5.6)\n"
          ]
        }
      ]
    }
  ]
}