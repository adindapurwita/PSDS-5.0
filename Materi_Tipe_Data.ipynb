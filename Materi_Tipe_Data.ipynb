{
  "nbformat": 4,
  "nbformat_minor": 0,
  "metadata": {
    "colab": {
      "provenance": [],
      "authorship_tag": "ABX9TyNA51B3vsR4gPBlyh8pqfkx",
      "include_colab_link": true
    },
    "kernelspec": {
      "name": "python3",
      "display_name": "Python 3"
    },
    "language_info": {
      "name": "python"
    }
  },
  "cells": [
    {
      "cell_type": "markdown",
      "metadata": {
        "id": "view-in-github",
        "colab_type": "text"
      },
      "source": [
        "<a href=\"https://colab.research.google.com/github/adindapurwita/PSDS-5.0/blob/main/Materi_Tipe_Data.ipynb\" target=\"_parent\"><img src=\"https://colab.research.google.com/assets/colab-badge.svg\" alt=\"Open In Colab\"/></a>"
      ]
    },
    {
      "cell_type": "markdown",
      "source": [
        "###List Python\n",
        "Dalam bahasa pemrograman Python, struktur data yang paling dasar adalah urutan atau list. Setiap elemen-elemn berurutan akan diberi nomor posisi atau indeksnya. Indeks pertama dalam list adalah nol, indeks kedua adalah satu atau seterusnya.\n",
        "\n",
        "Python memiliki enam jenis urutan built-in, namun yang paling umum adalah list dan tuple. Ada beberapa hal yang dapat Anda lakukan dengan semua jenis list. Operasi ini meliputi pengindeksan, pengiris, penambahan, perbanyak, dan pengecekan keanggotaan. Selain itu, Python memiliki fungsi built-in untuk menemukan panjang list dan untuk menemukan elemen terbesar dan terkecilnya."
      ],
      "metadata": {
        "id": "brsZ8CRgNwpD"
      }
    },
    {
      "cell_type": "markdown",
      "source": [
        "###Membuat List Python\n",
        "List adalah tipe data yang paling serbaguna yang tersedia dalam bahasa Python, yang dapat ditulis sebagai daftar nilai yang dipisahkan koma (item) antara tanda kurung siku. Hal penting tentang daftar adalah item dalam list tidak boleh sama jenisnya.\n",
        "\n",
        "Membuat list sangat sederhana, tinggal memasukkan berbagai nilai yang dipisahkan koma di antara tanda kurung siku. Dibawah ini adalah contoh sederhana pembuatan list dalam bahasa Python."
      ],
      "metadata": {
        "id": "zV5vP9-e_mt1"
      }
    },
    {
      "cell_type": "code",
      "execution_count": null,
      "metadata": {
        "colab": {
          "base_uri": "https://localhost:8080/"
        },
        "id": "I9Na59Us7gTI",
        "outputId": "419623ae-7c3a-47d4-a7d9-5cbecc3740af"
      },
      "outputs": [
        {
          "output_type": "stream",
          "name": "stdout",
          "text": [
            "List 1: ['kimia', 'fisika', 1993, 2017]\n",
            "List 2: [1, 2, 3, 4, 5]\n",
            "List 3: ['a', 'b', 'c', 'd']\n"
          ]
        }
      ],
      "source": [
        "#Cara sederhana pembuatan list pada bahasa pemrograman python\n",
        "list1 = ['kimia', 'fisika', 1993, 2017]\n",
        "list2 = [1, 2, 3, 4, 5]\n",
        "list3 = [\"a\", \"b\", \"c\", \"d\"]\n",
        "\n",
        "print('List 1:', list1)\n",
        "print('List 2:', list2)\n",
        "print('List 3:', list3)"
      ]
    },
    {
      "cell_type": "markdown",
      "source": [
        "###Akses Nilai Dalam List Python\n",
        "Untuk mengakses nilai dalam list python, gunakan tanda kurung siku untuk mengiris beserta indeks atau indeks untuk mendapatkan nilai yang tersedia pada indeks tersebut.\n"
      ],
      "metadata": {
        "id": "gid4_ThqPZSu"
      }
    },
    {
      "cell_type": "code",
      "source": [
        "#Cara mengakses nilai di dalam list Python\n",
        "\n",
        "list1 = ['fisika', 'kimia', 1993, 2017]\n",
        "list2 = [1, 2, 3, 4, 5, 6, 7]\n",
        "\n",
        "print(\"list1[0]:\", list1[0])\n",
        "print(\"list2[1:5]:\", list2[1:5])"
      ],
      "metadata": {
        "colab": {
          "base_uri": "https://localhost:8080/"
        },
        "id": "Wp7w4_KYEiCo",
        "outputId": "9a22c10a-16af-4db8-94f1-0b25c6603e14"
      },
      "execution_count": null,
      "outputs": [
        {
          "output_type": "stream",
          "name": "stdout",
          "text": [
            "list1[0]: fisika\n",
            "list2[1:5]: [2, 3, 4, 5]\n"
          ]
        }
      ]
    },
    {
      "cell_type": "markdown",
      "source": [
        "###Update Nilai Dalam List Python\n",
        "\n",
        "Kita dapat memperbarui satu atau beberapa nilai di dalam list dengan memberikan potongan di sisi kiri operator penugasan, dan kita dapat menambahkan nilai ke dalam list dengan metode append()."
      ],
      "metadata": {
        "id": "_5CgxIqhPqz9"
      }
    },
    {
      "cell_type": "code",
      "source": [
        "list = ['fisika', 'kimia', 1993, 2017]\n",
        "print(\"Nilai ada pada index 2:\", list[2])\n",
        "\n",
        "list[2] = 2001\n",
        "print(\"Nilai baru ada pada index 2:\", list[2])"
      ],
      "metadata": {
        "colab": {
          "base_uri": "https://localhost:8080/"
        },
        "id": "RSL2tdTtFQEt",
        "outputId": "0d796e65-4c03-4235-b497-b260241056d2"
      },
      "execution_count": null,
      "outputs": [
        {
          "output_type": "stream",
          "name": "stdout",
          "text": [
            "Nilai ada pada index 2: 1993\n",
            "Nilai baru ada pada index 2: 2001\n"
          ]
        }
      ]
    },
    {
      "cell_type": "markdown",
      "source": [
        "###Hapus Nilai Dalam List Python\n",
        "Untuk menghapus nilai di dalam list python, kita dapat menggunakan salah satu pernyataan del jika Anda tahu persis elemen yang Anda hapus. Kita dapat menggunakan metode remove() jika Anda tidak tahu persis item mana yang akan dihapus."
      ],
      "metadata": {
        "id": "7aWSIMbVP7Qn"
      }
    },
    {
      "cell_type": "code",
      "source": [
        "#Contoh cara menghapus nilai pada list python\n",
        "\n",
        "list = ['fisika', 'kimia', 1993, 2017]\n",
        "\n",
        "print(list)\n",
        "del list[2]\n",
        "print(\"Setelah dihapus nilai pada index 2:\", list)"
      ],
      "metadata": {
        "colab": {
          "base_uri": "https://localhost:8080/"
        },
        "id": "Lx0A-5YWF7Ut",
        "outputId": "9e3c8126-71f4-4d78-a85d-92317fcddf5d"
      },
      "execution_count": null,
      "outputs": [
        {
          "output_type": "stream",
          "name": "stdout",
          "text": [
            "['fisika', 'kimia', 1993, 2017]\n",
            "Setelah dihapus nilai pada index 2: ['fisika', 'kimia', 2017]\n"
          ]
        }
      ]
    },
    {
      "cell_type": "markdown",
      "source": [
        "###Slicing pada List Python\n",
        "Karena string mirip dengan list, maka slicing operator[] juga dapat digunakan pada string untuk mengambil isinya atau bahkan substring. Sebuah substring utuh bersifat mutable (bisa diubah), namun elemennya bersifat immutable (tidak bisa diubah)."
      ],
      "metadata": {
        "id": "OYfn51yaQRCk"
      }
    },
    {
      "cell_type": "code",
      "source": [
        "L = ['C++', 'Java', 'Python']\n",
        "\n",
        "print('Indeks ke-2:', L[2])\n",
        "print('Indeks ke-2 dari belakang:', L[-2])\n",
        "print('Indeks ke 1 dan 2:', L[1:])"
      ],
      "metadata": {
        "colab": {
          "base_uri": "https://localhost:8080/"
        },
        "id": "z3opiSbtGsvN",
        "outputId": "23bf438b-58ed-4505-b36c-f0e82db6ee71"
      },
      "execution_count": null,
      "outputs": [
        {
          "output_type": "stream",
          "name": "stdout",
          "text": [
            "Indeks ke-2: Python\n",
            "Indeks ke-2 dari belakang: Java\n",
            "Indeks ke 1 dan 2: ['Java', 'Python']\n"
          ]
        }
      ]
    },
    {
      "cell_type": "markdown",
      "source": [
        "###Set\n",
        "Set juga merupakan tipe data untuk mengumpulkan beberapa item dalam satu variabel. Bedanya, item di dalam set bersifat tidak berurutan dan tidak bisa diubah/duplikasi. seti menggunakan {} sebagai kontainer."
      ],
      "metadata": {
        "id": "H36GYGgvQrhJ"
      }
    },
    {
      "cell_type": "markdown",
      "source": [
        "###Mengakses item dalam set\n",
        "Karena set menampung item tidak secara berurutan, maka kita harus memasukkan nilai item secara spesifik, dan tidak bisa menggunakan urutan seperti list."
      ],
      "metadata": {
        "id": "WDoEHd5dQ-IY"
      }
    },
    {
      "cell_type": "code",
      "source": [
        "a = {\"Rokok\", \"Korek\", \"Asbak\"}\n",
        "print(\"Rokok\" in a)"
      ],
      "metadata": {
        "colab": {
          "base_uri": "https://localhost:8080/"
        },
        "id": "-9gHdMvjRKnc",
        "outputId": "c8bfb20b-a990-4089-ca55-39fc4f71a5c7"
      },
      "execution_count": 1,
      "outputs": [
        {
          "output_type": "stream",
          "name": "stdout",
          "text": [
            "True\n"
          ]
        }
      ]
    },
    {
      "cell_type": "markdown",
      "source": [
        "###Menghapus item dalam set\n",
        "Untuk menghapus item di dalam set, fungsi yang digunakan adalah (variabel).remove(item). Kita tidak bisa menggunakan .pop(urutan_item) seperti di list, karena set tidak memiliki urutan item."
      ],
      "metadata": {
        "id": "vw1oKFTxRU9R"
      }
    },
    {
      "cell_type": "code",
      "source": [
        "a = {\"Rokok\", \"Korek\", \"Asbak\"}\n",
        "a.remove(\"Korek\")\n",
        "print(a)"
      ],
      "metadata": {
        "colab": {
          "base_uri": "https://localhost:8080/"
        },
        "id": "zwJZD5_VRqj1",
        "outputId": "4cef2fec-1ffe-46da-f38c-e5e818365ded"
      },
      "execution_count": 2,
      "outputs": [
        {
          "output_type": "stream",
          "name": "stdout",
          "text": [
            "{'Rokok', 'Asbak'}\n"
          ]
        }
      ]
    },
    {
      "cell_type": "markdown",
      "source": [
        "#Dictionary\n",
        "Dictionary sebagai tipe data berfungsi mengumpulkan beberapa item dalam satu variabel dengan format key:value. Item di dalam dictionary bersifat berurutan, bisa diubah, tetapi tidak bisa diduplikasi. Dictionary menggunakan simbol {item:item} sebagai kontainer."
      ],
      "metadata": {
        "id": "0lqx3laMBiEc"
      }
    },
    {
      "cell_type": "code",
      "source": [
        "#Contoh dictionary yang diisi item dengan berbagai jenis tipe data.\n",
        "\n",
        "x = {\"nama\":\"Budi\", \"umur\":50, \"tinggi_badan\":155.5}\n",
        "print(x)"
      ],
      "metadata": {
        "id": "t69HlG5MC24t",
        "colab": {
          "base_uri": "https://localhost:8080/"
        },
        "outputId": "a7c85e77-7a90-47e8-afba-308cc40b1ba8"
      },
      "execution_count": 3,
      "outputs": [
        {
          "output_type": "stream",
          "name": "stdout",
          "text": [
            "{'nama': 'Budi', 'umur': 50, 'tinggi_badan': 155.5}\n"
          ]
        }
      ]
    },
    {
      "cell_type": "markdown",
      "source": [
        "###Mengakses value dari dictionary\n",
        "untuk mengakses value dari sebuah key dalam dictinary, gunakan (variabel[key])"
      ],
      "metadata": {
        "id": "jb4DNirFSp4H"
      }
    },
    {
      "cell_type": "code",
      "source": [
        "menteri = {\"nama\":\"Budi\", \"umur\":50}\n",
        "print(menteri[\"umur\"])"
      ],
      "metadata": {
        "colab": {
          "base_uri": "https://localhost:8080/"
        },
        "id": "4q1nKw2vS1Mu",
        "outputId": "6c81f4e3-f844-4869-c635-2659931b055f"
      },
      "execution_count": 4,
      "outputs": [
        {
          "output_type": "stream",
          "name": "stdout",
          "text": [
            "50\n"
          ]
        }
      ]
    },
    {
      "cell_type": "markdown",
      "source": [
        "###Update Nilai dalam Dictionary Python\n",
        "Dapat memperbarui Dictionary dengan menambahkan entri baru atau pasangan nilai kunci, memodifikasi entri yang ada"
      ],
      "metadata": {
        "id": "1nbdCbHMTAYz"
      }
    },
    {
      "cell_type": "markdown",
      "source": [
        "###Mengubah item\n",
        "Untuk mengubah item, kita perlu menentukan terlebih dahulu key dari item yang ingin diubah. Sintaksis yang dapat digunakan adalah (variabel[key])=value_baru."
      ],
      "metadata": {
        "id": "ipDL-ZBPTOmd"
      }
    },
    {
      "cell_type": "code",
      "source": [
        "#Update dictionary python\n",
        "\n",
        "dict = {'Name':'Zara', 'Age':7, 'Class':'First'}\n",
        "dict['Age'] = 8; #Mengubah entri yang sudah ada\n",
        "dict['School'] = \"DPS School\" #Menambah entri baru\n",
        "\n",
        "print(\"dict['Age']: \", dict['Age'])\n",
        "print(\"dict['School']: \", dict['School'])\n"
      ],
      "metadata": {
        "colab": {
          "base_uri": "https://localhost:8080/"
        },
        "id": "4mSw_J2TV9qi",
        "outputId": "d8f5d27c-33a9-417d-c81a-0ab325a839ac"
      },
      "execution_count": 5,
      "outputs": [
        {
          "output_type": "stream",
          "name": "stdout",
          "text": [
            "dict['Age']:  8\n",
            "dict['School']:  DPS School\n"
          ]
        }
      ]
    },
    {
      "cell_type": "code",
      "source": [
        "menteri = {\"nama\":\"Budi\", \"umur\":50}\n",
        "menteri[\"nama\"] = \"Adi\"\n",
        "print(menteri)"
      ],
      "metadata": {
        "colab": {
          "base_uri": "https://localhost:8080/"
        },
        "id": "QYcBrHy5Wq3b",
        "outputId": "60d43016-18ef-4fce-e8af-c51ad9b5387f"
      },
      "execution_count": 6,
      "outputs": [
        {
          "output_type": "stream",
          "name": "stdout",
          "text": [
            "{'nama': 'Adi', 'umur': 50}\n"
          ]
        }
      ]
    },
    {
      "cell_type": "markdown",
      "source": [
        "###Menambahkan item\n",
        "Menambahkan item memiliki langkah yang sama dengan mengubah item. Bedanya, key yang dimasukkan adalah key baru yang belum ada di dalam dictonary. Sintaksis yang digunakan adalah (variabel[key_baru])=value_baru."
      ],
      "metadata": {
        "id": "he_XVdoMW3AT"
      }
    },
    {
      "cell_type": "code",
      "source": [
        "menteri = {\"nama\":\"Budi\", \"umur\":50}\n",
        "menteri[\"kementrian\"] = \"Setneg\"\n",
        "print(menteri)"
      ],
      "metadata": {
        "colab": {
          "base_uri": "https://localhost:8080/"
        },
        "id": "zyvLHa4XXL41",
        "outputId": "9b3b0d44-3153-4f9e-cbcf-5953f816f249"
      },
      "execution_count": 7,
      "outputs": [
        {
          "output_type": "stream",
          "name": "stdout",
          "text": [
            "{'nama': 'Budi', 'umur': 50, 'kementrian': 'Setneg'}\n"
          ]
        }
      ]
    },
    {
      "cell_type": "markdown",
      "source": [
        "#Menghapus Item\n",
        "Untuk menghapus item dalam dictionary, kita menggunakan fungsi .pop dengan sintaksis (variabel).pop(key_yang_ingin_dihapus)."
      ],
      "metadata": {
        "id": "ZqNNAJNkCqK0"
      }
    },
    {
      "cell_type": "code",
      "source": [
        "menteri = {\"nama\":\"Budi\", \"umur\":50, \"kementrian\":\"Setneg\"}\n",
        "print(menteri.pop(\"kementrian\"))"
      ],
      "metadata": {
        "colab": {
          "base_uri": "https://localhost:8080/"
        },
        "id": "PkNdZ7boXu1B",
        "outputId": "dc6346f2-6ced-4394-dec5-dba81e504545"
      },
      "execution_count": 8,
      "outputs": [
        {
          "output_type": "stream",
          "name": "stdout",
          "text": [
            "Setneg\n"
          ]
        }
      ]
    },
    {
      "cell_type": "code",
      "source": [
        "#Contoh cara menghapus pada Dictionary Python\n",
        "\n",
        "dict = {'Name':'Zara', 'Age':7, 'Class':'First'}\n",
        "\n",
        "del dict['Name'] #hapus entri dengan key 'Name'\n",
        "dict.clear() #hapus semua entri di dict\n",
        "del dict #hapus dictionary yang sudah ada\n",
        "\n",
        "print(\"dict['Age']: \", dict['Age'])\n",
        "print(\"dict['School']: \", dict['School'])"
      ],
      "metadata": {
        "colab": {
          "base_uri": "https://localhost:8080/"
        },
        "id": "Vsw4GjPAX_sH",
        "outputId": "918fbac5-09de-4904-fb7a-39446ee9d4a7"
      },
      "execution_count": 9,
      "outputs": [
        {
          "output_type": "stream",
          "name": "stdout",
          "text": [
            "dict['Age']:  dict['Age']\n",
            "dict['School']:  dict['School']\n"
          ]
        }
      ]
    }
  ]
}