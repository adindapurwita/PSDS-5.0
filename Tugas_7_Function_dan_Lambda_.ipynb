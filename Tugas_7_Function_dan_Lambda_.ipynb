{
  "nbformat": 4,
  "nbformat_minor": 0,
  "metadata": {
    "colab": {
      "provenance": [],
      "authorship_tag": "ABX9TyMurEKQ0KqfRo37nAKGjJmZ",
      "include_colab_link": true
    },
    "kernelspec": {
      "name": "python3",
      "display_name": "Python 3"
    },
    "language_info": {
      "name": "python"
    }
  },
  "cells": [
    {
      "cell_type": "markdown",
      "metadata": {
        "id": "view-in-github",
        "colab_type": "text"
      },
      "source": [
        "<a href=\"https://colab.research.google.com/github/adindapurwita/PSDS-5.0/blob/main/Tugas_7_Function_dan_Lambda_.ipynb\" target=\"_parent\"><img src=\"https://colab.research.google.com/assets/colab-badge.svg\" alt=\"Open In Colab\"/></a>"
      ]
    },
    {
      "cell_type": "markdown",
      "source": [
        "NAMA : ADINDA PURWITA DYAH ASTUTI\n",
        "\n",
        "NIM : 2100015045"
      ],
      "metadata": {
        "id": "ATJbw9rZkumq"
      }
    },
    {
      "cell_type": "markdown",
      "source": [
        "#Function\n",
        "Function (fungsi) adalah sebuah blok statement yang hanya akan dijalankan saat ia panggil.\n",
        "\n",
        "Fungsi len() untuk mengukur jumlah elemen dalam sebuah list dan fungsi print() untuk menampilkan pesan pada layar konsol merupakan contoh dari bentuk dungsi yang telah disediakan oleh bahasa pemrograman Python dengan kata lain built-in functions. Selain fungsi yang telah disediakan oleh Python, Python mengizinkan untuk mendeklarasikan fungsi dalam kode yang dituliskan yang dikenal dengan user defines function."
      ],
      "metadata": {
        "id": "J0mRO9_cYoO9"
      }
    },
    {
      "cell_type": "code",
      "source": [
        "def nama_fungsi(argument):\n",
        "  statement_1\n",
        "  -\n",
        "  statement_n\n",
        "  return returned_value"
      ],
      "metadata": {
        "id": "SlQz_hysZcrF"
      },
      "execution_count": null,
      "outputs": []
    },
    {
      "cell_type": "markdown",
      "source": [
        "\n",
        "\n",
        "*   nama_fungsi adalah untuk fungsi yang anda definisikan, memiliki aturan seperti penamaan variabel.\n",
        "*   argument adalah variabel masukan ke fungsi, biasa tanpa variable, satu variable atau lebih.\n",
        "*   statement_1..statement_n adalah algoritma yang telah anda transfer dalam bahasa python yang anda definisikan. Seluruh statement adalah menjorok (indent) ke dalam seperti yang pernah anda pelajari pada conditioning dan looping.\n",
        "*  return_value adalah variable output dari fungsi anda, bisa tanpa variable, satu variable atau lebih.\n",
        "\n"
      ],
      "metadata": {
        "id": "9eFv3kH_Zq8W"
      }
    },
    {
      "cell_type": "markdown",
      "source": [
        "#Argumen dan Parameter\n",
        "* Parameter adalah variable yang digunakan dalam deklarasi fungsi\n",
        "* Argumen adalah nilai yang diberikan saat pemanggilan fungsi"
      ],
      "metadata": {
        "id": "8rRAW_-ZffZK"
      }
    },
    {
      "cell_type": "code",
      "source": [
        "def print_nama(nama): #'nama' adalah parameter\n",
        "  print(nama)\n",
        "\n",
        "print_nama('Budi') #'Budi' adalah argumen"
      ],
      "metadata": {
        "colab": {
          "base_uri": "https://localhost:8080/"
        },
        "id": "N-h19Be9fwAt",
        "outputId": "a1738e94-1452-4104-d298-96a8ee4320c2"
      },
      "execution_count": null,
      "outputs": [
        {
          "output_type": "stream",
          "name": "stdout",
          "text": [
            "Budi\n"
          ]
        }
      ]
    },
    {
      "cell_type": "markdown",
      "source": [
        "#Argumen posisi dan kata kunci\n",
        "Kita bisa menyatakan argumen posisi atau kata kunci. Beberapa manfaat argumen kata kunci dapat berupa:\n",
        "* Kita dapat menyebut argumen dengan mereka untuk memperjelas apa yang mereka wakili.\n",
        "* Kita dapat mengatur ulang argumen dengan cara membuatnya paling mudah dibaca."
      ],
      "metadata": {
        "id": "9ZknzLFlgBjd"
      }
    },
    {
      "cell_type": "code",
      "source": [
        "def angka(a, b, c):\n",
        "  print(a, b,b)\n",
        "\n",
        "#argumen posisi\n",
        "#argumen berdasarkan posisinya\n",
        "angka(1, 2, 3)\n",
        "\n",
        "#argumen berdasarkan kata kuncinya\n",
        "angka(a=1, b=2, c=3)\n",
        "angka(c=3, b=2, a=1)\n",
        "\n",
        "#catatan: jika sudah diberi kunci maka urutan tidak menjadi penting\n",
        "\n",
        "#campuran antara argumen posisi dan argumen kata kunci\n",
        "angka(1, b=2, c=3)\n",
        "\n",
        "#ini tidak diijinkan:\n",
        "#foo(1, b=2, 3) #argumen posisional setelah argumen kunci\n",
        "#foo(1, b=2, a=3) #terdapat dua nilai untuk argumen kunci 'a'"
      ],
      "metadata": {
        "colab": {
          "base_uri": "https://localhost:8080/"
        },
        "id": "9BoJQcvpgfYX",
        "outputId": "612e4548-f29a-4254-8c96-8dec918be825"
      },
      "execution_count": null,
      "outputs": [
        {
          "output_type": "stream",
          "name": "stdout",
          "text": [
            "1 2 2\n",
            "1 2 2\n",
            "1 2 2\n",
            "1 2 2\n"
          ]
        }
      ]
    },
    {
      "cell_type": "markdown",
      "source": [
        "#Argumen Default\n",
        "Fungsi dapat memiliki argumen default dengan nilai yang telah ditentukan sebelumnya. Argumen ini dapat ditinggalkan dan nilai default kemudian diteruskan ke fungsi, atau argumen dapat diirubah dengan nilai yang berbeda. Perhatikan bahwa argumen default harus ditentukan sebagai **parameter terakhir**  dalam suatu fungsi."
      ],
      "metadata": {
        "id": "8a38GPKQhb4i"
      }
    },
    {
      "cell_type": "code",
      "source": [
        "#Argumen default\n",
        "def angka2(a, b, c, d=4):\n",
        "  print(a, b, c, d)\n",
        "\n",
        "angka2(1, 2, 3, 4)\n",
        "angka2(1, b=2, c=3, d=100)\n",
        "\n",
        "#Argumen default harus diletakkan terakhir"
      ],
      "metadata": {
        "colab": {
          "base_uri": "https://localhost:8080/"
        },
        "id": "1zca_QtBy6rN",
        "outputId": "35661aa2-21b8-4af3-ba6a-9fdac855e196"
      },
      "execution_count": null,
      "outputs": [
        {
          "output_type": "stream",
          "name": "stdout",
          "text": [
            "1 2 3 4\n",
            "1 2 3 100\n"
          ]
        }
      ]
    },
    {
      "cell_type": "markdown",
      "source": [
        "#Praktik Membuat Fungsi"
      ],
      "metadata": {
        "id": "q0lYWAYg0FDV"
      }
    },
    {
      "cell_type": "code",
      "source": [
        "x = 1\n",
        "y = 2\n",
        "x*y"
      ],
      "metadata": {
        "colab": {
          "base_uri": "https://localhost:8080/"
        },
        "id": "PoYJliWJ0J9m",
        "outputId": "1309a57d-9a0c-46c4-d220-c0779c905fde"
      },
      "execution_count": null,
      "outputs": [
        {
          "output_type": "execute_result",
          "data": {
            "text/plain": [
              "2"
            ]
          },
          "metadata": {},
          "execution_count": 5
        }
      ]
    },
    {
      "cell_type": "code",
      "source": [
        "def penjumlahan(x,y):\n",
        "  a = x+y\n",
        "  return a\n",
        "\n",
        "penjumlahan(1,2)"
      ],
      "metadata": {
        "colab": {
          "base_uri": "https://localhost:8080/"
        },
        "id": "qGY4QCzi0Ny-",
        "outputId": "0135ab47-804f-4f0d-833e-5e12705b7ff2"
      },
      "execution_count": null,
      "outputs": [
        {
          "output_type": "execute_result",
          "data": {
            "text/plain": [
              "3"
            ]
          },
          "metadata": {},
          "execution_count": 6
        }
      ]
    },
    {
      "cell_type": "markdown",
      "source": [
        "Penjumlahan yang memungkinkan untuk tiga bilangan"
      ],
      "metadata": {
        "id": "a_DGf9OS0XWi"
      }
    },
    {
      "cell_type": "code",
      "source": [
        "def penjumlahan(x,y,z=None):\n",
        "  if (z==None):\n",
        "    return x+y\n",
        "  else:\n",
        "    return x+y+z\n",
        "\n",
        "print(penjumlahan(1,2))\n",
        "print(penjumlahan(1,2,3))"
      ],
      "metadata": {
        "colab": {
          "base_uri": "https://localhost:8080/"
        },
        "id": "d0eDITyq0Whv",
        "outputId": "90cd5531-771c-405e-a031-4e7debd83173"
      },
      "execution_count": null,
      "outputs": [
        {
          "output_type": "stream",
          "name": "stdout",
          "text": [
            "3\n",
            "6\n"
          ]
        }
      ]
    },
    {
      "cell_type": "markdown",
      "source": [
        "menyimpan hasil fungsi dalam variabel"
      ],
      "metadata": {
        "id": "1EW8Fchp0tVo"
      }
    },
    {
      "cell_type": "code",
      "source": [
        "def penjumlahan(x,y):\n",
        "  return x+y\n",
        "\n",
        "a = penjumlahan\n",
        "a(1,2)"
      ],
      "metadata": {
        "colab": {
          "base_uri": "https://localhost:8080/"
        },
        "id": "iE_iXacS0w2y",
        "outputId": "077caa06-5394-4fb4-f1dc-7e0dab51fceb"
      },
      "execution_count": null,
      "outputs": [
        {
          "output_type": "execute_result",
          "data": {
            "text/plain": [
              "3"
            ]
          },
          "metadata": {},
          "execution_count": 9
        }
      ]
    },
    {
      "cell_type": "markdown",
      "source": [
        "#Latihan 1\n",
        "Buatlah function pythagoras dengan input argumennya panjang tinggi dan alas segitiga untuk menghasilkan output nilai panjang sisi miring."
      ],
      "metadata": {
        "id": "Aj_iG6N506Dy"
      }
    },
    {
      "cell_type": "code",
      "source": [
        "def panjang_sisi_miring(tinggi,alas):\n",
        "  sisi_miring = (tinggi*tinggi + alas*alas)**(1/2)\n",
        "  return sisi_miring\n",
        "\n",
        "panjang_sisi_miring(6,8)"
      ],
      "metadata": {
        "colab": {
          "base_uri": "https://localhost:8080/"
        },
        "id": "TOfNNRg6m_U7",
        "outputId": "e72ea605-e146-42e8-9db5-83efb998ede0"
      },
      "execution_count": null,
      "outputs": [
        {
          "output_type": "execute_result",
          "data": {
            "text/plain": [
              "10.0"
            ]
          },
          "metadata": {},
          "execution_count": 5
        }
      ]
    },
    {
      "cell_type": "markdown",
      "source": [
        "#Latihan 2\n",
        "Buatlah function luas permukaan balok dengan input argumennya panjang, lebar, dan tinggi dari balok untuk menghasilkan output nilai luas permukaan balok tersebut."
      ],
      "metadata": {
        "id": "qmR_qX3Ck-An"
      }
    },
    {
      "cell_type": "code",
      "source": [
        "def luas_permukaan_balok(panjang,lebar,tinggi):\n",
        "  luas_permukaan = (2*panjang*lebar+2*panjang*tinggi+2*lebar*tinggi)\n",
        "  print(luas_permukaan)\n",
        "\n",
        "luas_permukaan_balok(4,5,6)"
      ],
      "metadata": {
        "colab": {
          "base_uri": "https://localhost:8080/"
        },
        "id": "jGAW9W7llLtq",
        "outputId": "32f5de10-841b-4a32-9281-d4bc5c4fa8b8"
      },
      "execution_count": null,
      "outputs": [
        {
          "output_type": "stream",
          "name": "stdout",
          "text": [
            "148\n"
          ]
        }
      ]
    },
    {
      "cell_type": "markdown",
      "source": [
        "#Lambda"
      ],
      "metadata": {
        "id": "zxgRidzZoa5b"
      }
    },
    {
      "cell_type": "markdown",
      "source": [
        "Fungsi Lambda adalah fungsi anonim `one line` yang didefinisikan tanpa nama. Fungsi lambda dapat mengambil sejumlah `arguments` tetapi hanya dapat memiliki satu `expression`. Sementara fungsi normal didefinisikan menggunakan kata kunci `def`, dalam Phyton fungsi anonim didefinisikan menggunakan kata kunci lambda."
      ],
      "metadata": {
        "id": "G719V9oBod65"
      }
    },
    {
      "cell_type": "markdown",
      "source": [
        "Fungsi Lambda digunakan ketika fungsi sederhana hanya digunakan sekali atau untuk waktu yang singkat dalam kode kita. Penggunaannya yang paling umum adalah sebagai argumen untuk fungsi tingkat tinggi (fungsi yang menggunakan fungsi lain sebagai argument)."
      ],
      "metadata": {
        "id": "OgmwxN--o5SV"
      }
    },
    {
      "cell_type": "markdown",
      "source": [
        "Lambda expression di phyton adalah sebuah ekspresi untuk membuat fungsi"
      ],
      "metadata": {
        "id": "PGLsC81kpJda"
      }
    },
    {
      "cell_type": "markdown",
      "source": [],
      "metadata": {
        "id": "0mCmJGEpkHWC"
      }
    },
    {
      "cell_type": "markdown",
      "source": [
        "Lambda sendiri berasal dari teori kalkulus, yakni Lambda Calculus yang dikenalkan oleh Alonzo Church di tahun 1930."
      ],
      "metadata": {
        "id": "S6WyAJKUpQG-"
      }
    },
    {
      "cell_type": "markdown",
      "source": [
        "Berkat Lambda, kita bisa membuat fungsi tanpa nama atau dikenal juga dengan anonymus function.\n",
        "\n",
        "Lambda bisa memiliki lebih dari satu argumen atau parameter, tapi hanya bisa memiliki satu ekspresi atau isi."
      ],
      "metadata": {
        "id": "w6ivjDkLpZQ8"
      }
    },
    {
      "cell_type": "code",
      "source": [
        "greeting = lambda name: print(f\"hello, {name}\")"
      ],
      "metadata": {
        "id": "FaFYpbLvqqFb"
      },
      "execution_count": null,
      "outputs": []
    },
    {
      "cell_type": "markdown",
      "source": [
        "Karena fungsi lambda tidak punya nama, jadi kita butuh variable untuk menyimpannya.\n",
        "\n",
        "Nanti saat mau kita panggil, kita tinggal tuliskan saja nama variabelnya seperti ini:"
      ],
      "metadata": {
        "id": "aDhSnkYqqwEZ"
      }
    },
    {
      "cell_type": "code",
      "source": [
        "greeting(\"Dian\")\n",
        "greeting(\"Ayu\")"
      ],
      "metadata": {
        "colab": {
          "base_uri": "https://localhost:8080/"
        },
        "id": "SiLoDRTCq83_",
        "outputId": "c4d8231d-6436-48ac-9013-10cf7149c697"
      },
      "execution_count": null,
      "outputs": [
        {
          "output_type": "stream",
          "name": "stdout",
          "text": [
            "hello, Dian\n",
            "hello, Ayu\n"
          ]
        }
      ]
    },
    {
      "cell_type": "markdown",
      "source": [
        "Beberapa contoh penggunaan fungsi Lambda"
      ],
      "metadata": {
        "id": "yObYqj-wrK52"
      }
    },
    {
      "cell_type": "code",
      "execution_count": null,
      "metadata": {
        "id": "8p388JbThWHi",
        "colab": {
          "base_uri": "https://localhost:8080/"
        },
        "outputId": "1ec22992-0915-433f-a3e6-88332f7f92f2"
      },
      "outputs": [
        {
          "output_type": "stream",
          "name": "stdout",
          "text": [
            "15 110\n"
          ]
        }
      ],
      "source": [
        "#Fungsi Lambda untuk menambahkan angka 10 kepada argument input\n",
        "f = lambda x: x+10\n",
        "val1 = f(5)\n",
        "val2 = f(100)\n",
        "print(val1, val2)"
      ]
    },
    {
      "cell_type": "code",
      "source": [
        "#Fungsi Lambda untuk mengalikan dua ragumen input dan menampilkan hasilnya\n",
        "f = lambda x,y: x*y\n",
        "val3 = f(2,10)\n",
        "val4 = f(7,5)\n",
        "print(val3,val4)"
      ],
      "metadata": {
        "colab": {
          "base_uri": "https://localhost:8080/"
        },
        "id": "0Rqe2R1Brd-2",
        "outputId": "cfa2c91e-1e5b-449e-c221-aa734fe3aa4a"
      },
      "execution_count": null,
      "outputs": [
        {
          "output_type": "stream",
          "name": "stdout",
          "text": [
            "20 35\n"
          ]
        }
      ]
    },
    {
      "cell_type": "markdown",
      "source": [
        "#Anonymous Function\n",
        "Karena lambda adalah anonymous function, ia akan bebas menggunakan nama apa saja. Dengan kata lain, fungsi lambda bisa disimpan di variable mana pun. Ini tentunya tidak bisa dilakukan oleh fungsi yang dibuat dengan def. Coba perhatikan ini:"
      ],
      "metadata": {
        "id": "womUjpT9sfvu"
      }
    },
    {
      "cell_type": "code",
      "source": [
        "def say_hello(nama):\n",
        "  print(f\"hello{nama}, apa kabar?\")\n",
        "\n",
        "ucapin = say_hello(nama)"
      ],
      "metadata": {
        "colab": {
          "base_uri": "https://localhost:8080/",
          "height": 201
        },
        "id": "bRJzI65hs2f4",
        "outputId": "010a3ff6-524c-4555-c905-b7f7bd093a12"
      },
      "execution_count": null,
      "outputs": [
        {
          "output_type": "error",
          "ename": "NameError",
          "evalue": "ignored",
          "traceback": [
            "\u001b[0;31m---------------------------------------------------------------------------\u001b[0m",
            "\u001b[0;31mNameError\u001b[0m                                 Traceback (most recent call last)",
            "\u001b[0;32m<ipython-input-5-88136fd08a96>\u001b[0m in \u001b[0;36m<cell line: 4>\u001b[0;34m()\u001b[0m\n\u001b[1;32m      2\u001b[0m   \u001b[0mprint\u001b[0m\u001b[0;34m(\u001b[0m\u001b[0;34mf\"hello{nama}, apa kabar?\"\u001b[0m\u001b[0;34m)\u001b[0m\u001b[0;34m\u001b[0m\u001b[0;34m\u001b[0m\u001b[0m\n\u001b[1;32m      3\u001b[0m \u001b[0;34m\u001b[0m\u001b[0m\n\u001b[0;32m----> 4\u001b[0;31m \u001b[0mucapin\u001b[0m \u001b[0;34m=\u001b[0m \u001b[0msay_hello\u001b[0m\u001b[0;34m(\u001b[0m\u001b[0mnama\u001b[0m\u001b[0;34m)\u001b[0m\u001b[0;34m\u001b[0m\u001b[0;34m\u001b[0m\u001b[0m\n\u001b[0m",
            "\u001b[0;31mNameError\u001b[0m: name 'nama' is not defined"
          ]
        }
      ]
    },
    {
      "cell_type": "markdown",
      "source": [
        "Saya mencoba membuat fungsi say_hello() dengan def, kemudian menyimpannya ke dalam variabel ucapin. Tapi malah error.\n",
        "\n",
        "Ini karena fungsi tersebut bukanlah fungsi anonymous yang boleh diubah-ubah namanya.\n",
        "\n",
        "Lalu coba perhatikan di baris terakhir, fungsi lambda greeting() yang sudah disimpan lagi ke variabel yang berbeda, yakni sapa."
      ],
      "metadata": {
        "id": "jqBLfQv3tFMu"
      }
    },
    {
      "cell_type": "code",
      "source": [
        "greeting = lambda name: print(f\"hello, {name}\")\n",
        "sapa = greeting\n",
        "greeting(\"Andi\")\n",
        "sapa(\"Neli\")"
      ],
      "metadata": {
        "colab": {
          "base_uri": "https://localhost:8080/"
        },
        "id": "iI7J8DS7tf-9",
        "outputId": "8bb91b41-74be-494b-cd85-8f16c613275b"
      },
      "execution_count": null,
      "outputs": [
        {
          "output_type": "stream",
          "name": "stdout",
          "text": [
            "hello, Andi\n",
            "hello, Neli\n"
          ]
        }
      ]
    },
    {
      "cell_type": "markdown",
      "source": [
        "Hasilnya tidak error, karena ini adalah fungsi anonymous atau lambda"
      ],
      "metadata": {
        "id": "o_hhsauFtqXO"
      }
    },
    {
      "cell_type": "markdown",
      "source": [
        "#Eksekusi Lambda Secara Langsung"
      ],
      "metadata": {
        "id": "bospewoftv47"
      }
    },
    {
      "cell_type": "markdown",
      "source": [
        "Eksekusi lambda secara langsung kelebihan fungsi dibandingkan def adalah bisa kita eksekusi langsung.\n",
        "\n",
        "Contohnya:"
      ],
      "metadata": {
        "id": "_9xSoXBBtysR"
      }
    },
    {
      "cell_type": "code",
      "source": [
        "(lambda x,y: x**2 + y**2) (4,6)"
      ],
      "metadata": {
        "colab": {
          "base_uri": "https://localhost:8080/"
        },
        "id": "Oh-u7EGWiJwP",
        "outputId": "fd3b1997-1381-4b73-df41-3ae67e2b583c"
      },
      "execution_count": null,
      "outputs": [
        {
          "output_type": "execute_result",
          "data": {
            "text/plain": [
              "52"
            ]
          },
          "metadata": {},
          "execution_count": 1
        }
      ]
    },
    {
      "cell_type": "markdown",
      "source": [
        "Tanda kurung yang mengapit fungsi lambda artinya akan langsung mengeksekusi fungsi tersebut.\n",
        "\n",
        "Lalu kurung berikutnya akan berisi parameter.\n",
        "\n",
        "Angka 4 dan 6 adalah parameter x dan y yang akan diberikan kepada fungsi lambda.\n",
        "\n",
        "Maka kita akan langsung mendapatkan hasilnya, yakni 4^2+6^2= 52\n",
        "\n",
        "Hasil dari eksekusi ini bisa juga kita simpan ke dalam variabel."
      ],
      "metadata": {
        "id": "eiXg4zWpuZQu"
      }
    },
    {
      "cell_type": "code",
      "source": [
        "hasil = (lambda x,y: x**2 + y**2) (4,6)"
      ],
      "metadata": {
        "id": "AI6_nFyXu6O-"
      },
      "execution_count": null,
      "outputs": []
    },
    {
      "cell_type": "markdown",
      "source": [
        "#Mengapa Harus Pakai Lambda\n",
        "Kita memang tidak harus selalu menggunakan lambda, tapi dalam kasus tertentu lambda lebih baik dibandingkan fungsi biasa.\n",
        "\n",
        "Lambda biasanya dibutuhkan saat kita ingin membuat fungsi dalam satu baris.\n",
        "\n",
        "Biasanya saat menggunakan fungsi-fungsi seperti `filter(), map()` dan 'reduce()` kita akan membutuhkan lambda.\n",
        "\n",
        "Mengapa?\n",
        "\n",
        "Karena di fungsi-fungsi tersebut membutuhkan parameter fungsi.\n",
        "\n",
        "Contoh:"
      ],
      "metadata": {
        "id": "uh6gaGYHijIr"
      }
    },
    {
      "cell_type": "code",
      "source": [
        "bilangan = [10,2,8,7,5,4,3,11,0,1]\n",
        "filtered_result = map(lambda x: x*x, bilangan)\n",
        "print(list(filtered_result))"
      ],
      "metadata": {
        "colab": {
          "base_uri": "https://localhost:8080/"
        },
        "id": "w5GJ4sVfvefE",
        "outputId": "4d6f6820-385c-4d9d-e673-c571a7e6ab42"
      },
      "execution_count": null,
      "outputs": [
        {
          "output_type": "stream",
          "name": "stdout",
          "text": [
            "[100, 4, 64, 49, 25, 16, 9, 121, 0, 1]\n"
          ]
        }
      ]
    },
    {
      "cell_type": "markdown",
      "source": [
        "Pada fungsi map() kita memberikan parameter dengan fungsi lambda.\n",
        "\n",
        "Mengapa bisa begitu?\n",
        "\n",
        "Karena lambda bisa disimpan ke dalam variabel, otomatis dia akan bisa juga jadi parameter.\n",
        "\n",
        "Satu lagi contoh dengan fungsi filter()"
      ],
      "metadata": {
        "id": "e0TyYfLNvw48"
      }
    },
    {
      "cell_type": "code",
      "source": [
        "#Menentukan bilangan genap\n",
        "genap = lambda x: x%2 == 0\n",
        "list(filter(genap, range(11)))"
      ],
      "metadata": {
        "id": "lqxMsnbGi1H3",
        "colab": {
          "base_uri": "https://localhost:8080/"
        },
        "outputId": "1d1d4a13-43d4-41e5-b73e-3e65877ecc67"
      },
      "execution_count": null,
      "outputs": [
        {
          "output_type": "execute_result",
          "data": {
            "text/plain": [
              "[0, 2, 4, 6, 8, 10]"
            ]
          },
          "metadata": {},
          "execution_count": 9
        }
      ]
    },
    {
      "cell_type": "markdown",
      "source": [
        "#TUGAS PERTEMUAN KE-11\n",
        "1. Buatlah fungsi lambda untuk menghitung luas dari persegi panjang.\n",
        "2. Buatlah fungsi lambda untuk menghitung luas dari segitiga."
      ],
      "metadata": {
        "id": "lzMOwqCSUW8k"
      }
    },
    {
      "cell_type": "code",
      "source": [
        "#Fungsi lambda untuk menghitung luas persegi panjang\n",
        "\n",
        "p = int(input(\"Masukkan panjangnya: \"))\n",
        "l = int(input(\"Masukkan lebarnya: \"))\n",
        "\n",
        "luas_persegi_panjang = lambda p,l: p*l\n",
        "print(luas_persegi_panjang(p,l))"
      ],
      "metadata": {
        "colab": {
          "base_uri": "https://localhost:8080/"
        },
        "id": "Za9okt3xWOtk",
        "outputId": "d6c43e6f-38d7-4822-811b-825a029b189a"
      },
      "execution_count": null,
      "outputs": [
        {
          "output_type": "stream",
          "name": "stdout",
          "text": [
            "Masukkan panjangnya: 4\n",
            "Masukkan lebarnya: 7\n",
            "28\n"
          ]
        }
      ]
    },
    {
      "cell_type": "code",
      "source": [
        "#Fungsi lambda untuk menghitung luas dari segitiga\n",
        "\n",
        "a = int(input(\"Masukkan panjang alas segitiga: \"))\n",
        "t = int(input(\"Masukkan tinggi segitiga: \"))\n",
        "\n",
        "luas_segitiga = lambda a,t: 1/2*a*t\n",
        "print(luas_segitiga(a,t))"
      ],
      "metadata": {
        "colab": {
          "base_uri": "https://localhost:8080/"
        },
        "id": "NGU16TvGUh1L",
        "outputId": "9171c2d6-afb0-4aa2-d5b6-29b66b8d575a"
      },
      "execution_count": null,
      "outputs": [
        {
          "output_type": "stream",
          "name": "stdout",
          "text": [
            "Masukkan panjang alas segitiga: 6\n",
            "Masukkan tinggi segitiga: 6\n",
            "18.0\n"
          ]
        }
      ]
    }
  ]
}