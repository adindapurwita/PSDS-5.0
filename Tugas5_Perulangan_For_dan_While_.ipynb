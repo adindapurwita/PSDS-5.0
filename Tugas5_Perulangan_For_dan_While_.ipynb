{
  "nbformat": 4,
  "nbformat_minor": 0,
  "metadata": {
    "colab": {
      "provenance": [],
      "authorship_tag": "ABX9TyNolKAb962pcC5E2ZKQMmj2",
      "include_colab_link": true
    },
    "kernelspec": {
      "name": "python3",
      "display_name": "Python 3"
    },
    "language_info": {
      "name": "python"
    }
  },
  "cells": [
    {
      "cell_type": "markdown",
      "metadata": {
        "id": "view-in-github",
        "colab_type": "text"
      },
      "source": [
        "<a href=\"https://colab.research.google.com/github/adindapurwita/PSDS-5.0/blob/main/Tugas5_Perulangan_For_dan_While_.ipynb\" target=\"_parent\"><img src=\"https://colab.research.google.com/assets/colab-badge.svg\" alt=\"Open In Colab\"/></a>"
      ]
    },
    {
      "cell_type": "markdown",
      "source": [
        "##**Looping/Perulangan**\n",
        "Python menyediakan dua statement untuk melakukan proses perulangan yaitu for dan while. Diantara kedua statement ini, secara umum for lebih banyak digunakan daripada while."
      ],
      "metadata": {
        "id": "jrlRpIKocw1U"
      }
    },
    {
      "cell_type": "markdown",
      "source": [
        "##For Loop\n",
        "Perulangan `for` digunakan untuk melakukan iterasi di dalam `sequence` seperti `list`,`tuple`,`string`, dan `array` atau objek yang dapat diiterasi lainnya."
      ],
      "metadata": {
        "id": "nQxMZSoadjMo"
      }
    },
    {
      "cell_type": "markdown",
      "source": [
        "**For Loop Syntax**"
      ],
      "metadata": {
        "id": "JcPmIGpmd6nl"
      }
    },
    {
      "cell_type": "code",
      "source": [
        "for val in sequence:\n",
        "  loop body"
      ],
      "metadata": {
        "id": "PWK5ncx7dimQ"
      },
      "execution_count": null,
      "outputs": []
    },
    {
      "cell_type": "markdown",
      "source": [
        "**For Loop Flowchart**\n",
        "\n",
        "![image.png](data:image/png;base64,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)"
      ],
      "metadata": {
        "id": "raaHgiF5eCqR"
      }
    },
    {
      "cell_type": "markdown",
      "source": [
        "**Example: Python for Loop**"
      ],
      "metadata": {
        "id": "Ap8XUZw0i_yq"
      }
    },
    {
      "cell_type": "code",
      "execution_count": null,
      "metadata": {
        "colab": {
          "base_uri": "https://localhost:8080/"
        },
        "id": "Urbp4uMNDM1Q",
        "outputId": "803d8b3a-1822-420f-9a7f-56479a045a0c"
      },
      "outputs": [
        {
          "output_type": "stream",
          "name": "stdout",
          "text": [
            "27\n"
          ]
        }
      ],
      "source": [
        "#program untuk menghitung jumlah angka dalam sebuah list\n",
        "L1 = [2,4,5,7,9]\n",
        "jumlah = 0\n",
        "\n",
        "#iterasi di dalam list\n",
        "for i in L1:\n",
        "  jumlah = jumlah + i\n",
        "\n",
        "print(jumlah)"
      ]
    },
    {
      "cell_type": "markdown",
      "source": [
        "##**The range() function**"
      ],
      "metadata": {
        "id": "bR8f5ocUjUlw"
      }
    },
    {
      "cell_type": "code",
      "source": [
        "#Program untuk melakukan iterasi di dalam list melalui indeks\n",
        "minuman = [\"teh\", \"boba\", \"kopi\", \"susu\"]\n",
        "p = len(minuman)\n",
        "\n",
        "#iterasi di dalam list melalui indeks\n",
        "for i in range(p):\n",
        "  print(minuman[i])"
      ],
      "metadata": {
        "colab": {
          "base_uri": "https://localhost:8080/"
        },
        "id": "v7yHY1rVjb9i",
        "outputId": "c591dcb3-8260-4f7a-f74d-4e94b40d6329"
      },
      "execution_count": null,
      "outputs": [
        {
          "output_type": "stream",
          "name": "stdout",
          "text": [
            "teh\n",
            "boba\n",
            "kopi\n",
            "susu\n"
          ]
        }
      ]
    },
    {
      "cell_type": "markdown",
      "source": [
        "##**For loop with else**"
      ],
      "metadata": {
        "id": "8R__WcRbj34T"
      }
    },
    {
      "cell_type": "code",
      "source": [
        "#Contoh for loop menggunakan else\n",
        "for i in range(p):\n",
        "  print(minuman[i])\n",
        "else:\n",
        "  print(\"Elemen sudah habis\")"
      ],
      "metadata": {
        "colab": {
          "base_uri": "https://localhost:8080/"
        },
        "id": "yRNDhKZrjyqm",
        "outputId": "2de39a27-1d09-4a11-f273-71ca7791cf91"
      },
      "execution_count": null,
      "outputs": [
        {
          "output_type": "stream",
          "name": "stdout",
          "text": [
            "teh\n",
            "boba\n",
            "kopi\n",
            "susu\n",
            "Elemen sudah habis\n"
          ]
        }
      ]
    },
    {
      "cell_type": "markdown",
      "source": [
        "##Latihan 1"
      ],
      "metadata": {
        "id": "JQ-TqQkwkF0a"
      }
    },
    {
      "cell_type": "markdown",
      "source": [
        "Diberikan `list_tagihan`. Kamu diminta untuk menghitung jumlah seluruh tagihan! Gunakan looping `foor` untuk menyelesaikan tugas ini!\n",
        "\n",
        "`list_tagihan = [50000, 75000, -150000, 125000, 300000, -50000, 200000]`"
      ],
      "metadata": {
        "id": "cFuOs1XvkISW"
      }
    },
    {
      "cell_type": "code",
      "source": [
        "list_tagihan = [50000, 75000, -150000, 125000, 300000, -50000, 200000]\n",
        "total_tagihan = 0\n",
        "\n",
        "for i in list_tagihan:\n",
        "  total_tagihan = total_tagihan + i\n",
        "\n",
        "print(total_tagihan)"
      ],
      "metadata": {
        "colab": {
          "base_uri": "https://localhost:8080/"
        },
        "id": "I4d64OeEktnV",
        "outputId": "372b6bb6-c8d8-4af1-83aa-c3569563b457"
      },
      "execution_count": null,
      "outputs": [
        {
          "output_type": "stream",
          "name": "stdout",
          "text": [
            "550000\n"
          ]
        }
      ]
    },
    {
      "cell_type": "markdown",
      "source": [
        "#While Loop\n",
        "While loop pada Python digunakan untuk melakukan iterasi pada blok kode selama nilai dari `test expression` adalah `true`.\n",
        "\n",
        "**Syntax of while Loop in Python**\n",
        "```\n",
        "while test_expression:\n",
        "  Body of while\n",
        "  ```\n",
        "**While Loop Flowchart**\n",
        "![Cuplikan layar 2023-07-05 220916.png](data:image/png;base64,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)"
      ],
      "metadata": {
        "id": "-B-rswirljPU"
      }
    },
    {
      "cell_type": "markdown",
      "source": [
        "**Example: Python while Loop**"
      ],
      "metadata": {
        "id": "_GeaZYVOmxmn"
      }
    },
    {
      "cell_type": "code",
      "source": [
        "#Program untuk menjumlahkan semua\n",
        "#bilangan asli hingga suku ke-n\n",
        "#jum = 1+2+3+...+n\n",
        "\n",
        "n = 10\n",
        "jumlah = 0\n",
        "i = 1\n",
        "\n",
        "while i <= n:\n",
        "  jumlah = jumlah + i\n",
        "  i = i + 1\n",
        "\n",
        "print(jumlah)"
      ],
      "metadata": {
        "colab": {
          "base_uri": "https://localhost:8080/"
        },
        "id": "utGfIij_m49y",
        "outputId": "dafb8142-ec6e-4cd6-df9f-019d89fbfe5d"
      },
      "execution_count": null,
      "outputs": [
        {
          "output_type": "stream",
          "name": "stdout",
          "text": [
            "55\n"
          ]
        }
      ]
    },
    {
      "cell_type": "markdown",
      "source": [
        "##**While loop with else**\n",
        "Sama dengan `for` loop kita juga dapat mengkombinasikan `while` loop dengan blok `else`.\n",
        "\n",
        "Bagian `else` akan dieksekusi jika nilai pada `test expression` pada `while loop` bernilai `False`. Perhatikan contoh berikut:"
      ],
      "metadata": {
        "id": "xV9Q7nP2nLTe"
      }
    },
    {
      "cell_type": "code",
      "source": [
        "jum = 0\n",
        "i = 1\n",
        "while i <= n:\n",
        "  jum = jum + i\n",
        "  i = i + 1\n",
        "else:\n",
        "  print(jum) #dieksekusi diluar looping"
      ],
      "metadata": {
        "colab": {
          "base_uri": "https://localhost:8080/"
        },
        "id": "8colazr9FAtD",
        "outputId": "dda7079c-2107-42e3-f557-78c4ce5660d4"
      },
      "execution_count": null,
      "outputs": [
        {
          "output_type": "stream",
          "name": "stdout",
          "text": [
            "55\n"
          ]
        }
      ]
    },
    {
      "cell_type": "markdown",
      "source": [
        "##Latihan 2"
      ],
      "metadata": {
        "id": "Sqx6bFWBnrY6"
      }
    },
    {
      "cell_type": "markdown",
      "source": [
        "Diberikan list `tagihan` hitunglah `total_tagihan` menggunakan `while loop`.\n",
        "\n",
        "`tagihan = [50000, 75000, 125000, 300000, 200000]`"
      ],
      "metadata": {
        "id": "E-G2RUNcn0Yp"
      }
    },
    {
      "cell_type": "code",
      "source": [
        "tagihan = [50000, 75000, 125000, 300000, 200000]\n",
        "total_tagihan = 0\n",
        "i = 0\n",
        "m = len(tagihan)\n",
        "\n",
        "while i < len(tagihan):\n",
        "  total_tagihan += tagihan[i]\n",
        "  i += 1\n",
        "\n",
        "print(total_tagihan)"
      ],
      "metadata": {
        "colab": {
          "base_uri": "https://localhost:8080/"
        },
        "id": "u3ZXDADgoBP8",
        "outputId": "3fe3fdc3-8eda-4ae6-f25a-4c9de6942f14"
      },
      "execution_count": null,
      "outputs": [
        {
          "output_type": "stream",
          "name": "stdout",
          "text": [
            "750000\n"
          ]
        }
      ]
    }
  ]
}